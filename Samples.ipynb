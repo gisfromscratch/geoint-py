{
 "cells": [
  {
   "cell_type": "code",
   "execution_count": 1,
   "metadata": {},
   "outputs": [],
   "source": [
    "import arcgis\n",
    "import geoint"
   ]
  },
  {
   "cell_type": "code",
   "execution_count": 2,
   "metadata": {},
   "outputs": [
    {
     "name": "stdout",
     "output_type": "stream",
     "text": [
      "Help on package geoint:\n",
      "\n",
      "NAME\n",
      "    geoint\n",
      "\n",
      "DESCRIPTION\n",
      "    # Copyright (C) 2020 Jan Tschada (gisfromscratch@live.de)\n",
      "    #\n",
      "    # This program is free software: you can redistribute it and/or modify\n",
      "    # it under the terms of the GNU Lesser General Public License as published by\n",
      "    # the Free Software Foundation, either version 3 of the License, or\n",
      "    # (at your option) any later version.\n",
      "    #\n",
      "    # This program is distributed in the hope that it will be useful,\n",
      "    # but WITHOUT ANY WARRANTY; without even the implied warranty of\n",
      "    # MERCHANTABILITY or FITNESS FOR A PARTICULAR PURPOSE.  See the\n",
      "    # GNU Lesser General Public License for more details.\n",
      "    #\n",
      "    # You should have received a copy of the GNU Lesser General Public License\n",
      "    # along with this program.  If not, see <https://www.gnu.org/licenses/>.\n",
      "    #\n",
      "\n",
      "PACKAGE CONTENTS\n",
      "    geospatial\n",
      "\n",
      "FUNCTIONS\n",
      "    create_bins(spatial_grid, latitudes, longitudes)\n",
      "        Creates bins using a spatial grid and WGS84 coordinates.\n",
      "    \n",
      "    create_mercator_bins(spatial_grid, y, x)\n",
      "        Creates bins using a spatial grid and Web Mercator coordinates.\n",
      "    \n",
      "    create_spatial_grid(spacing_meters)\n",
      "        Creates a new spatial grid using Web Mercator as spatial reference.\n",
      "\n",
      "FILE\n",
      "    d:\\localgit\\repos\\geoint-py\\geoint\\__init__.py\n",
      "\n",
      "\n"
     ]
    }
   ],
   "source": [
    "help(geoint)"
   ]
  },
  {
   "cell_type": "markdown",
   "metadata": {},
   "source": [
    "# Create a rectangular spatial grid (500 km)"
   ]
  },
  {
   "cell_type": "code",
   "execution_count": 3,
   "metadata": {},
   "outputs": [],
   "source": [
    "spatial_grid=geoint.create_spatial_grid(spacing_meters=5e5)"
   ]
  },
  {
   "cell_type": "markdown",
   "metadata": {},
   "source": [
    "# Create a spatial aggregation using two point locations (Dessau and Bonn)"
   ]
  },
  {
   "cell_type": "code",
   "execution_count": 4,
   "metadata": {},
   "outputs": [],
   "source": [
    "# Coordinates tuple (latitude, longitude)\n",
    "# Coordinates arrays [latitude, ...], [longitude, ...]\n",
    "dessau_coordinates = (51.83864, 12.24555)\n",
    "bonn_coordinates = (50.73438, 7.09549)\n",
    "latitudes = [dessau_coordinates[0], bonn_coordinates[0]]\n",
    "longitudes = [dessau_coordinates[1], bonn_coordinates[1]]\n",
    "grid_aggregation = geoint.create_bins(spatial_grid, latitudes, longitudes)"
   ]
  },
  {
   "cell_type": "markdown",
   "metadata": {},
   "source": [
    "# Convert the spatial aggregation to a featureset"
   ]
  },
  {
   "cell_type": "code",
   "execution_count": 5,
   "metadata": {},
   "outputs": [],
   "source": [
    "grid_featureset = grid_aggregation.to_featureset()"
   ]
  },
  {
   "cell_type": "markdown",
   "metadata": {},
   "source": [
    "# Connect to ArcGIS Online anonymously"
   ]
  },
  {
   "cell_type": "code",
   "execution_count": 6,
   "metadata": {},
   "outputs": [],
   "source": [
    "gis = arcgis.GIS()"
   ]
  },
  {
   "cell_type": "markdown",
   "metadata": {},
   "source": [
    "# Visualize the spatial aggregation on a map"
   ]
  },
  {
   "cell_type": "code",
   "execution_count": 7,
   "metadata": {
    "scrolled": true
   },
   "outputs": [
    {
     "data": {
      "application/vnd.jupyter.widget-view+json": {
       "model_id": "8557ad3e7fa748d0b8018767098e534c",
       "version_major": 2,
       "version_minor": 0
      },
      "text/html": [
       "<p>Failed to display Jupyter Widget of type <code>MapView</code>.</p>\n",
       "<p>\n",
       "  If you're reading this message in the Jupyter Notebook or JupyterLab Notebook, it may mean\n",
       "  that the widgets JavaScript is still loading. If this message persists, it\n",
       "  likely means that the widgets JavaScript library is either not installed or\n",
       "  not enabled. See the <a href=\"https://ipywidgets.readthedocs.io/en/stable/user_install.html\">Jupyter\n",
       "  Widgets Documentation</a> for setup instructions.\n",
       "</p>\n",
       "<p>\n",
       "  If you're reading this message in another frontend (for example, a static\n",
       "  rendering on GitHub or <a href=\"https://nbviewer.jupyter.org/\">NBViewer</a>),\n",
       "  it may mean that your frontend doesn't currently support widgets.\n",
       "</p>\n"
      ],
      "text/plain": [
       "MapView(layout=Layout(height='400px', width='100%'))"
      ]
     },
     "metadata": {},
     "output_type": "display_data"
    },
    {
     "data": {
      "text/html": [
       "<div class=\"map-static-img-preview-27d72a18-89d8-41e9-873a-90adfd07a50a\"><img src=\"\"></img></div>"
      ],
      "text/plain": [
       "<IPython.core.display.HTML object>"
      ]
     },
     "metadata": {},
     "output_type": "display_data"
    }
   ],
   "source": [
    "germany_map = gis.map('Germany')\n",
    "germany_map.basemap = 'dark-gray-vector'\n",
    "\n",
    "grid_featureset.sdf.spatial.plot(germany_map,\n",
    "                                 renderer_type='c',  # for class breaks renderer\n",
    "                                 method='esriClassifyNaturalBreaks',  # classification algorithm\n",
    "                                 class_count=5,  # choose the number of classes\n",
    "                                 col='hitCount',  # numeric column to classify\n",
    "                                 cmap='coolwarm',  # color map to pick colors from for each class\n",
    "                                 alpha=0.35  # specify opacity\n",
    "                                )\n",
    "germany_map"
   ]
  },
  {
   "cell_type": "markdown",
   "metadata": {},
   "source": [
    "# Use Case: Aggregate and Visualize ACLED events"
   ]
  },
  {
   "cell_type": "code",
   "execution_count": 58,
   "metadata": {},
   "outputs": [
    {
     "data": {
      "application/vnd.jupyter.widget-view+json": {
       "model_id": "2a24f88ad51c435d82b6ccc5dfcdf3ff",
       "version_major": 2,
       "version_minor": 0
      },
      "text/html": [
       "<p>Failed to display Jupyter Widget of type <code>MapView</code>.</p>\n",
       "<p>\n",
       "  If you're reading this message in the Jupyter Notebook or JupyterLab Notebook, it may mean\n",
       "  that the widgets JavaScript is still loading. If this message persists, it\n",
       "  likely means that the widgets JavaScript library is either not installed or\n",
       "  not enabled. See the <a href=\"https://ipywidgets.readthedocs.io/en/stable/user_install.html\">Jupyter\n",
       "  Widgets Documentation</a> for setup instructions.\n",
       "</p>\n",
       "<p>\n",
       "  If you're reading this message in another frontend (for example, a static\n",
       "  rendering on GitHub or <a href=\"https://nbviewer.jupyter.org/\">NBViewer</a>),\n",
       "  it may mean that your frontend doesn't currently support widgets.\n",
       "</p>\n"
      ],
      "text/plain": [
       "MapView(layout=Layout(height='400px', width='100%'))"
      ]
     },
     "metadata": {},
     "output_type": "display_data"
    },
    {
     "data": {
      "text/html": [
       "<div class=\"map-static-img-preview-6a1d9937-c8b2-47dd-8175-51efcfa6015f\"><img src=\"\"></img></div>"
      ],
      "text/plain": [
       "<IPython.core.display.HTML object>"
      ]
     },
     "metadata": {},
     "output_type": "display_data"
    }
   ],
   "source": [
    "import os\n",
    "import pandas\n",
    "\n",
    "acled_environ_key = 'acled.data.filepath'\n",
    "if not acled_environ_key in os.environ:\n",
    "    raise ValueError('Define an environment variable named \\'%s\\' and set the full qualified filepath to the *.csv file containing the ACLED events!' % (acled_environ_key))\n",
    "    \n",
    "acled_filepath = os.environ[acled_environ_key]\n",
    "acled_data = pandas.read_csv(acled_filepath, encoding='utf_8')\n",
    "acled_latitude_column = 'latitude'\n",
    "acled_longitude_column = 'longitude'\n",
    "if (not acled_latitude_column in acled_data.columns or not acled_longitude_column in acled_data.columns):\n",
    "    raise ValueError('Latitude and Longitude columns must exists!')\n",
    "\n",
    "latitudes = acled_data[acled_latitude_column]\n",
    "longitudes = acled_data[acled_longitude_column]\n",
    "grid_aggregation = geoint.create_bins(spatial_grid, latitudes, longitudes)\n",
    "grid_featureset = grid_aggregation.to_featureset()\n",
    "\n",
    "world_map = gis.map()\n",
    "world_map.basemap = 'dark-gray-vector'\n",
    "\n",
    "grid_featureset.sdf.spatial.plot(world_map,\n",
    "                                 renderer_type='c',  # for class breaks renderer\n",
    "                                 method='esriClassifyNaturalBreaks',  # classification algorithm\n",
    "                                 class_count=5,  # choose the number of classes\n",
    "                                 col='hitCount',  # numeric column to classify\n",
    "                                 cmap='coolwarm',  # color map to pick colors from for each class\n",
    "                                 alpha=0.75  # specify opacity\n",
    "                                )\n",
    "world_map"
   ]
  },
  {
   "cell_type": "code",
   "execution_count": 9,
   "metadata": {},
   "outputs": [],
   "source": [
    "import tempfile\n",
    "\n",
    "world_map.take_screenshot(False, False, os.path.join(tempfile.gettempdir(), 'spatial_bin.png'))"
   ]
  },
  {
   "cell_type": "markdown",
   "metadata": {},
   "source": [
    "## Show class breaks from first layer"
   ]
  },
  {
   "cell_type": "code",
   "execution_count": 68,
   "metadata": {},
   "outputs": [
    {
     "data": {
      "text/plain": [
       "Text(0.5,1,'Histogram of hit counts')"
      ]
     },
     "execution_count": 68,
     "metadata": {},
     "output_type": "execute_result"
    },
    {
     "data": {
      "image/png": "[encoded data removed]",
      "text/plain": [
       "<Figure size 1080x288 with 1 Axes>"
      ]
     },
     "metadata": {
      "needs_background": "light"
     },
     "output_type": "display_data"
    }
   ],
   "source": [
    "class_breaks = world_map.layers[0].layer.layerDefinition.drawingInfo.renderer.classBreakInfos\n",
    "max_values = {}\n",
    "colors = []\n",
    "for class_break in class_breaks:\n",
    "    if class_break.classMaxValue not in max_values:\n",
    "        max_values[class_break.classMaxValue] = class_break.classMaxValue\n",
    "        colors.append([color/255.0 for color in class_break.symbol.color])\n",
    "max_values = list(max_values.values())\n",
    "    \n",
    "import matplotlib.pyplot as plt\n",
    "# build a histogram for the same class breaks\n",
    "plt.figure(figsize=(15,4))\n",
    "n, bins, patches = plt.hist(grid_featureset.sdf['hitCount'], bins=max_values)\n",
    "\n",
    "# apply the same color for each class to match the map\n",
    "for patch, color in zip(patches, colors):\n",
    "    patch.set_facecolor(color)\n",
    "    \n",
    "plt.title('Histogram of hit counts')"
   ]
  },
  {
   "cell_type": "code",
   "execution_count": null,
   "metadata": {},
   "outputs": [],
   "source": []
  }
 ],
 "metadata": {
  "kernelspec": {
   "display_name": "Python 3",
   "language": "python",
   "name": "python3"
  },
  "language_info": {
   "codemirror_mode": {
    "name": "ipython",
    "version": 3
   },
   "file_extension": ".py",
   "mimetype": "text/x-python",
   "name": "python",
   "nbconvert_exporter": "python",
   "pygments_lexer": "ipython3",
   "version": "3.6.4"
  }
 },
 "nbformat": 4,
 "nbformat_minor": 2
}
