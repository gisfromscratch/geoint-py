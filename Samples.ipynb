{
 "cells": [
  {
   "cell_type": "code",
   "execution_count": 1,
   "metadata": {},
   "outputs": [],
   "source": [
    "import arcgis\n",
    "import geoint"
   ]
  },
  {
   "cell_type": "code",
   "execution_count": 2,
   "metadata": {},
   "outputs": [
    {
     "name": "stdout",
     "output_type": "stream",
     "text": [
      "Help on package geoint:\n",
      "\n",
      "NAME\n",
      "    geoint\n",
      "\n",
      "DESCRIPTION\n",
      "    # Copyright (C) 2020 Jan Tschada (gisfromscratch@live.de)\n",
      "    #\n",
      "    # This program is free software: you can redistribute it and/or modify\n",
      "    # it under the terms of the GNU Lesser General Public License as published by\n",
      "    # the Free Software Foundation, either version 3 of the License, or\n",
      "    # (at your option) any later version.\n",
      "    #\n",
      "    # This program is distributed in the hope that it will be useful,\n",
      "    # but WITHOUT ANY WARRANTY; without even the implied warranty of\n",
      "    # MERCHANTABILITY or FITNESS FOR A PARTICULAR PURPOSE.  See the\n",
      "    # GNU Lesser General Public License for more details.\n",
      "    #\n",
      "    # You should have received a copy of the GNU Lesser General Public License\n",
      "    # along with this program.  If not, see <https://www.gnu.org/licenses/>.\n",
      "    #\n",
      "\n",
      "PACKAGE CONTENTS\n",
      "    geospatial\n",
      "\n",
      "FUNCTIONS\n",
      "    create_bins(spatial_gid, latitudes, longitudes)\n",
      "    \n",
      "    create_spatial_grid(spacing_meters)\n",
      "\n",
      "FILE\n",
      "    d:\\localgit\\repos\\geoint-py\\geoint\\__init__.py\n",
      "\n",
      "\n"
     ]
    }
   ],
   "source": [
    "help(geoint)"
   ]
  },
  {
   "cell_type": "markdown",
   "metadata": {},
   "source": [
    "# Create a rectangular spatial grid (500 km)"
   ]
  },
  {
   "cell_type": "code",
   "execution_count": 3,
   "metadata": {},
   "outputs": [],
   "source": [
    "spatial_grid=geoint.create_spatial_grid(spacing_meters=5e5)"
   ]
  },
  {
   "cell_type": "markdown",
   "metadata": {},
   "source": [
    "# Create a spatial aggregation using two point locations (Dessau and Bonn)"
   ]
  },
  {
   "cell_type": "code",
   "execution_count": 4,
   "metadata": {},
   "outputs": [],
   "source": [
    "# Coordinates tuple (latitude, longitude)\n",
    "# Coordinates arrays [latitude, ...], [longitude, ...]\n",
    "dessau_coordinates = (51.83864, 12.24555)\n",
    "bonn_coordinates = (50.73438, 7.09549)\n",
    "latitudes = [dessau_coordinates[0], bonn_coordinates[0]]\n",
    "longitudes = [dessau_coordinates[1], bonn_coordinates[1]]\n",
    "grid_aggregation = geoint.create_bins(spatial_grid, latitudes, longitudes)"
   ]
  },
  {
   "cell_type": "markdown",
   "metadata": {},
   "source": [
    "# Convert the spatial aggregation to a featureset"
   ]
  },
  {
   "cell_type": "code",
   "execution_count": 5,
   "metadata": {},
   "outputs": [],
   "source": [
    "grid_featureset = grid_aggregation.to_featureset()"
   ]
  },
  {
   "cell_type": "markdown",
   "metadata": {},
   "source": [
    "# Connect to ArcGIS Online anonymously"
   ]
  },
  {
   "cell_type": "code",
   "execution_count": 6,
   "metadata": {},
   "outputs": [],
   "source": [
    "gis = arcgis.GIS()"
   ]
  },
  {
   "cell_type": "markdown",
   "metadata": {},
   "source": [
    "# Visualize the spatial aggregation on a map"
   ]
  },
  {
   "cell_type": "code",
   "execution_count": 7,
   "metadata": {},
   "outputs": [
    {
     "data": {
      "application/vnd.jupyter.widget-view+json": {
       "model_id": "4781904e2c9548e4942b37c8beb480da",
       "version_major": 2,
       "version_minor": 0
      },
      "text/html": [
       "<p>Failed to display Jupyter Widget of type <code>MapView</code>.</p>\n",
       "<p>\n",
       "  If you're reading this message in the Jupyter Notebook or JupyterLab Notebook, it may mean\n",
       "  that the widgets JavaScript is still loading. If this message persists, it\n",
       "  likely means that the widgets JavaScript library is either not installed or\n",
       "  not enabled. See the <a href=\"https://ipywidgets.readthedocs.io/en/stable/user_install.html\">Jupyter\n",
       "  Widgets Documentation</a> for setup instructions.\n",
       "</p>\n",
       "<p>\n",
       "  If you're reading this message in another frontend (for example, a static\n",
       "  rendering on GitHub or <a href=\"https://nbviewer.jupyter.org/\">NBViewer</a>),\n",
       "  it may mean that your frontend doesn't currently support widgets.\n",
       "</p>\n"
      ],
      "text/plain": [
       "MapView(layout=Layout(height='400px', width='100%'))"
      ]
     },
     "metadata": {},
     "output_type": "display_data"
    },
    {
     "data": {
      "text/html": [
       "<div class=\"map-static-img-preview-dfb53bea-c32d-45d8-b6e5-d23d70d9644f\"><img src=\"\"></img></div>"
      ],
      "text/plain": [
       "<IPython.core.display.HTML object>"
      ]
     },
     "metadata": {},
     "output_type": "display_data"
    }
   ],
   "source": [
    "germany_map = gis.map('Germany')\n",
    "germany_map.basemap = 'dark-gray-vector'\n",
    "\n",
    "grid_featureset.sdf.spatial.plot(germany_map,\n",
    "                                 renderer_type='c',  # for class breaks renderer\n",
    "                                 method='esriClassifyNaturalBreaks',  # classification algorithm\n",
    "                                 class_count=5,  # choose the number of classes\n",
    "                                 col='hitCount',  # numeric column to classify\n",
    "                                 cmap='coolwarm',  # color map to pick colors from for each class\n",
    "                                 alpha=0.35  # specify opacity\n",
    "                                )\n",
    "germany_map"
   ]
  },
  {
   "cell_type": "markdown",
   "metadata": {},
   "source": [
    "# Use Case: Aggregate and Visualize ACLED events"
   ]
  },
  {
   "cell_type": "code",
   "execution_count": 8,
   "metadata": {},
   "outputs": [
    {
     "data": {
      "application/vnd.jupyter.widget-view+json": {
       "model_id": "2483f652c57e4a5b924b3f26b90ba43c",
       "version_major": 2,
       "version_minor": 0
      },
      "text/html": [
       "<p>Failed to display Jupyter Widget of type <code>MapView</code>.</p>\n",
       "<p>\n",
       "  If you're reading this message in the Jupyter Notebook or JupyterLab Notebook, it may mean\n",
       "  that the widgets JavaScript is still loading. If this message persists, it\n",
       "  likely means that the widgets JavaScript library is either not installed or\n",
       "  not enabled. See the <a href=\"https://ipywidgets.readthedocs.io/en/stable/user_install.html\">Jupyter\n",
       "  Widgets Documentation</a> for setup instructions.\n",
       "</p>\n",
       "<p>\n",
       "  If you're reading this message in another frontend (for example, a static\n",
       "  rendering on GitHub or <a href=\"https://nbviewer.jupyter.org/\">NBViewer</a>),\n",
       "  it may mean that your frontend doesn't currently support widgets.\n",
       "</p>\n"
      ],
      "text/plain": [
       "MapView(layout=Layout(height='400px', width='100%'))"
      ]
     },
     "metadata": {},
     "output_type": "display_data"
    },
    {
     "data": {
      "text/html": [
       "<div class=\"map-static-img-preview-2f23d780-ed50-4cdb-a34a-9f6e89ea3a11\"><img src=\"\"></img></div>"
      ],
      "text/plain": [
       "<IPython.core.display.HTML object>"
      ]
     },
     "metadata": {},
     "output_type": "display_data"
    }
   ],
   "source": [
    "import os\n",
    "import pandas\n",
    "\n",
    "acled_environ_key = 'acled.data.filepath'\n",
    "if not acled_environ_key in os.environ:\n",
    "    raise ValueError('Define an environment variable named \\'%s\\' and set the full qualified filepath to the *.csv file containing the ACLED events!' % (acled_environ_key))\n",
    "    \n",
    "acled_filepath = os.environ[acled_environ_key]\n",
    "acled_data = pandas.read_csv(acled_filepath, encoding='utf_8')\n",
    "acled_latitude_column = 'latitude'\n",
    "acled_longitude_column = 'longitude'\n",
    "if (not acled_latitude_column in acled_data.columns or not acled_longitude_column in acled_data.columns):\n",
    "    raise ValueError('Latitude and Longitude columns must exists!')\n",
    "\n",
    "latitudes = acled_data[acled_latitude_column]\n",
    "longitudes = acled_data[acled_longitude_column]\n",
    "grid_aggregation = geoint.create_bins(spatial_grid, latitudes, longitudes)\n",
    "grid_featureset = grid_aggregation.to_featureset()\n",
    "\n",
    "world_map = gis.map()\n",
    "world_map.basemap = 'dark-gray-vector'\n",
    "\n",
    "grid_featureset.sdf.spatial.plot(world_map,\n",
    "                                 renderer_type='c',  # for class breaks renderer\n",
    "                                 method='esriClassifyNaturalBreaks',  # classification algorithm\n",
    "                                 class_count=5,  # choose the number of classes\n",
    "                                 col='hitCount',  # numeric column to classify\n",
    "                                 cmap='coolwarm',  # color map to pick colors from for each class\n",
    "                                 alpha=0.35  # specify opacity\n",
    "                                )\n",
    "world_map"
   ]
  },
  {
   "cell_type": "code",
   "execution_count": 43,
   "metadata": {},
   "outputs": [],
   "source": [
    "import tempfile\n",
    "\n",
    "world_map.take_screenshot(False, False, os.path.join(tempfile.gettempdir(), 'spatial_bin.png'))"
   ]
  },
  {
   "cell_type": "code",
   "execution_count": null,
   "metadata": {},
   "outputs": [],
   "source": []
  }
 ],
 "metadata": {
  "kernelspec": {
   "display_name": "Python 3",
   "language": "python",
   "name": "python3"
  },
  "language_info": {
   "codemirror_mode": {
    "name": "ipython",
    "version": 3
   },
   "file_extension": ".py",
   "mimetype": "text/x-python",
   "name": "python",
   "nbconvert_exporter": "python",
   "pygments_lexer": "ipython3",
   "version": "3.6.4"
  }
 },
 "nbformat": 4,
 "nbformat_minor": 2
}
