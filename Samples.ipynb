{
 "cells": [
  {
   "cell_type": "code",
   "execution_count": 1,
   "metadata": {},
   "outputs": [],
   "source": [
    "import arcgis\n",
    "import geoint"
   ]
  },
  {
   "cell_type": "code",
   "execution_count": 2,
   "metadata": {},
   "outputs": [
    {
     "name": "stdout",
     "output_type": "stream",
     "text": [
      "Help on package geoint:\n",
      "\n",
      "NAME\n",
      "    geoint\n",
      "\n",
      "DESCRIPTION\n",
      "    # Copyright (C) 2020 Jan Tschada (gisfromscratch@live.de)\n",
      "    #\n",
      "    # This program is free software: you can redistribute it and/or modify\n",
      "    # it under the terms of the GNU Lesser General Public License as published by\n",
      "    # the Free Software Foundation, either version 3 of the License, or\n",
      "    # (at your option) any later version.\n",
      "    #\n",
      "    # This program is distributed in the hope that it will be useful,\n",
      "    # but WITHOUT ANY WARRANTY; without even the implied warranty of\n",
      "    # MERCHANTABILITY or FITNESS FOR A PARTICULAR PURPOSE.  See the\n",
      "    # GNU Lesser General Public License for more details.\n",
      "    #\n",
      "    # You should have received a copy of the GNU Lesser General Public License\n",
      "    # along with this program.  If not, see <https://www.gnu.org/licenses/>.\n",
      "    #\n",
      "\n",
      "PACKAGE CONTENTS\n",
      "    geospatial\n",
      "\n",
      "FUNCTIONS\n",
      "    create_bins(spatial_grid, latitudes, longitudes)\n",
      "        Creates bins using a spatial grid and WGS84 coordinates.\n",
      "    \n",
      "    create_mercator_bins(spatial_grid, y, x)\n",
      "        Creates bins using a spatial grid and Web Mercator coordinates.\n",
      "    \n",
      "    create_spatial_grid(spacing_meters)\n",
      "        Creates a new spatial grid using Web Mercator as spatial reference.\n",
      "\n",
      "FILE\n",
      "    /home/gisfromscratch/Projects/geoint-py/geoint/__init__.py\n",
      "\n",
      "\n"
     ]
    }
   ],
   "source": [
    "help(geoint)"
   ]
  },
  {
   "cell_type": "markdown",
   "metadata": {},
   "source": [
    "# Create a rectangular spatial grid (500 km)"
   ]
  },
  {
   "cell_type": "code",
   "execution_count": 3,
   "metadata": {},
   "outputs": [],
   "source": [
    "spatial_grid=geoint.create_spatial_grid(spacing_meters=5e5)"
   ]
  },
  {
   "cell_type": "markdown",
   "metadata": {},
   "source": [
    "# Create a spatial aggregation using two point locations (Dessau and Bonn)"
   ]
  },
  {
   "cell_type": "code",
   "execution_count": 4,
   "metadata": {},
   "outputs": [],
   "source": [
    "# Coordinates tuple (latitude, longitude)\n",
    "# Coordinates arrays [latitude, ...], [longitude, ...]\n",
    "dessau_coordinates = (51.83864, 12.24555)\n",
    "bonn_coordinates = (50.73438, 7.09549)\n",
    "latitudes = [dessau_coordinates[0], bonn_coordinates[0]]\n",
    "longitudes = [dessau_coordinates[1], bonn_coordinates[1]]\n",
    "grid_aggregation = geoint.create_bins(spatial_grid, latitudes, longitudes)"
   ]
  },
  {
   "cell_type": "markdown",
   "metadata": {},
   "source": [
    "# Convert the spatial aggregation to a featureset"
   ]
  },
  {
   "cell_type": "code",
   "execution_count": 5,
   "metadata": {},
   "outputs": [],
   "source": [
    "grid_featureset = grid_aggregation.to_featureset()"
   ]
  },
  {
   "cell_type": "markdown",
   "metadata": {},
   "source": [
    "# Connect to ArcGIS Online anonymously"
   ]
  },
  {
   "cell_type": "code",
   "execution_count": 6,
   "metadata": {},
   "outputs": [],
   "source": [
    "gis = arcgis.GIS()"
   ]
  },
  {
   "cell_type": "markdown",
   "metadata": {},
   "source": [
    "# Visualize the spatial aggregation on a map"
   ]
  },
  {
   "cell_type": "code",
   "execution_count": 7,
   "metadata": {
    "scrolled": true
   },
   "outputs": [
    {
     "data": {
      "application/vnd.jupyter.widget-view+json": {
       "model_id": "f79fbdfb3bd9416db39f6711210c8ca7",
       "version_major": 2,
       "version_minor": 0
      },
      "text/plain": [
       "MapView(layout=Layout(height='400px', width='100%'))"
      ]
     },
     "metadata": {},
     "output_type": "display_data"
    },
    {
     "data": {
      "text/html": [
       "<div class=\"map-static-img-preview-63e9ff03-846d-47ac-a079-5bec6a9addea\"><img src=\"\"></img></div>"
      ],
      "text/plain": [
       "<IPython.core.display.HTML object>"
      ]
     },
     "metadata": {},
     "output_type": "display_data"
    },
    {
     "data": {
      "text/html": [
       "<div class=\"map-html-embed-preview-63e9ff03-846d-47ac-a079-5bec6a9addea\"></div>"
      ],
      "text/plain": [
       "<IPython.core.display.HTML object>"
      ]
     },
     "metadata": {},
     "output_type": "display_data"
    }
   ],
   "source": [
    "germany_map = gis.map('Germany')\n",
    "germany_map.basemap = 'dark-gray-vector'\n",
    "\n",
    "grid_featureset.sdf.spatial.plot(germany_map,\n",
    "                                 renderer_type='c',  # for class breaks renderer\n",
    "                                 method='esriClassifyNaturalBreaks',  # classification algorithm\n",
    "                                 class_count=5,  # choose the number of classes\n",
    "                                 col='hitCount',  # numeric column to classify\n",
    "                                 cmap='coolwarm',  # color map to pick colors from for each class\n",
    "                                 alpha=0.35  # specify opacity\n",
    "                                )\n",
    "germany_map"
   ]
  },
  {
   "cell_type": "markdown",
   "metadata": {},
   "source": [
    "# Use Case: Aggregate and Visualize ACLED events"
   ]
  },
  {
   "cell_type": "code",
   "execution_count": 8,
   "metadata": {},
   "outputs": [
    {
     "data": {
      "application/vnd.jupyter.widget-view+json": {
       "model_id": "54303b7e2963411185ee4cd798d028b1",
       "version_major": 2,
       "version_minor": 0
      },
      "text/plain": [
       "MapView(layout=Layout(height='400px', width='100%'))"
      ]
     },
     "metadata": {},
     "output_type": "display_data"
    },
    {
     "data": {
      "text/html": [
       "<div class=\"map-static-img-preview-4661fd76-f195-4d26-8f00-d3d8214c2885\"><img src=\"\"></img></div>"
      ],
      "text/plain": [
       "<IPython.core.display.HTML object>"
      ]
     },
     "metadata": {},
     "output_type": "display_data"
    },
    {
     "data": {
      "text/html": [
       "<div class=\"map-html-embed-preview-4661fd76-f195-4d26-8f00-d3d8214c2885\"></div>"
      ],
      "text/plain": [
       "<IPython.core.display.HTML object>"
      ]
     },
     "metadata": {},
     "output_type": "display_data"
    }
   ],
   "source": [
    "import os\n",
    "import pandas\n",
    "\n",
    "acled_environ_key = 'acled_file_path'\n",
    "if not acled_environ_key in os.environ:\n",
    "    raise ValueError('Define an environment variable named \\'%s\\' and set the full qualified filepath to the *.csv file containing the ACLED events!' % (acled_environ_key))\n",
    "    \n",
    "acled_filepath = os.environ[acled_environ_key]\n",
    "acled_data = pandas.read_csv(acled_filepath, encoding='utf_8')\n",
    "acled_latitude_column = 'latitude'\n",
    "acled_longitude_column = 'longitude'\n",
    "if (not acled_latitude_column in acled_data.columns or not acled_longitude_column in acled_data.columns):\n",
    "    raise ValueError('Latitude and Longitude columns must exists!')\n",
    "\n",
    "latitudes = acled_data[acled_latitude_column]\n",
    "longitudes = acled_data[acled_longitude_column]\n",
    "grid_aggregation = geoint.create_bins(spatial_grid, latitudes, longitudes)\n",
    "grid_featureset = grid_aggregation.to_featureset()\n",
    "\n",
    "world_map = gis.map()\n",
    "world_map.basemap = 'dark-gray-vector'\n",
    "\n",
    "grid_featureset.sdf.spatial.plot(world_map,\n",
    "                                 renderer_type='c',  # for class breaks renderer\n",
    "                                 method='esriClassifyNaturalBreaks',  # classification algorithm\n",
    "                                 class_count=5,  # choose the number of classes\n",
    "                                 col='hitCount',  # numeric column to classify\n",
    "                                 cmap='coolwarm',  # color map to pick colors from for each class\n",
    "                                 alpha=0.35  # specify opacity\n",
    "                                )\n",
    "world_map"
   ]
  },
  {
   "cell_type": "code",
   "execution_count": 38,
   "metadata": {},
   "outputs": [
    {
     "data": {
      "application/vnd.jupyter.widget-view+json": {
       "model_id": "ea09f776b80746878a65e5d34194c831",
       "version_major": 2,
       "version_minor": 0
      },
      "text/plain": [
       "MapView(layout=Layout(height='400px', width='100%'))"
      ]
     },
     "metadata": {},
     "output_type": "display_data"
    },
    {
     "data": {
      "text/html": [
       "<div class=\"map-static-img-preview-15efa578-4a7c-42e7-a91b-8fd2b6839f4d\"><img src=\"\"></img></div>"
      ],
      "text/plain": [
       "<IPython.core.display.HTML object>"
      ]
     },
     "metadata": {},
     "output_type": "display_data"
    },
    {
     "data": {
      "text/html": [
       "<div class=\"map-html-embed-preview-15efa578-4a7c-42e7-a91b-8fd2b6839f4d\"></div>"
      ],
      "text/plain": [
       "<IPython.core.display.HTML object>"
      ]
     },
     "metadata": {},
     "output_type": "display_data"
    }
   ],
   "source": [
    "def filter_by_event_type(acled_data, event_type):\n",
    "    return acled_data[(acled_data['event_type'] == event_type)]\n",
    "\n",
    "def filter_by_year(acled_data, year):\n",
    "    return acled_data[(acled_data['year'] == year)]\n",
    "\n",
    "def create_map(acled_data):\n",
    "    acled_latitude_column = 'latitude'\n",
    "    acled_longitude_column = 'longitude'\n",
    "    if (not acled_latitude_column in acled_data.columns or not acled_longitude_column in acled_data.columns):\n",
    "        raise ValueError('Latitude and Longitude columns must exists!')\n",
    "\n",
    "    latitudes = acled_data[acled_latitude_column]\n",
    "    longitudes = acled_data[acled_longitude_column]\n",
    "    grid_aggregation = geoint.create_bins(spatial_grid, latitudes, longitudes)\n",
    "    grid_featureset = grid_aggregation.to_featureset()\n",
    "\n",
    "    world_map = gis.map()\n",
    "    world_map.basemap = 'dark-gray-vector'\n",
    "\n",
    "    grid_featureset.sdf.spatial.plot(world_map,\n",
    "        renderer_type='c',  # for class breaks renderer\n",
    "        method='esriClassifyNaturalBreaks',  # classification algorithm\n",
    "        class_count=5,  # choose the number of classes\n",
    "        col='hitCount',  # numeric column to classify\n",
    "        cmap='coolwarm',  # color map to pick colors from for each class\n",
    "        alpha=0.35  # specify opacity\n",
    "    )\n",
    "    return world_map\n",
    "\n",
    "\n",
    "\n",
    "acled_map = create_map(filter_by_year(filter_by_event_type(acled_data, 'Strategic developments'), 2020))\n",
    "acled_map"
   ]
  },
  {
   "cell_type": "code",
   "execution_count": 10,
   "metadata": {},
   "outputs": [],
   "source": [
    "#TODO Remove basemap\n",
    "#world_map.basemap = ''"
   ]
  },
  {
   "cell_type": "code",
   "execution_count": 39,
   "metadata": {},
   "outputs": [],
   "source": [
    "import tempfile\n",
    "\n",
    "acled_map.take_screenshot(False, False, os.path.join(tempfile.gettempdir(), 'acled_spatial_bin.png'))"
   ]
  },
  {
   "cell_type": "markdown",
   "metadata": {},
   "source": [
    "## Show class breaks from first layer"
   ]
  },
  {
   "cell_type": "code",
   "execution_count": 12,
   "metadata": {},
   "outputs": [
    {
     "data": {
      "text/plain": [
       "Text(0.5, 1.0, 'Histogram of hit counts')"
      ]
     },
     "execution_count": 12,
     "metadata": {},
     "output_type": "execute_result"
    },
    {
     "data": {
      "image/png": "[encoded data removed]",
      "text/plain": [
       "<Figure size 1080x288 with 1 Axes>"
      ]
     },
     "metadata": {
      "needs_background": "light"
     },
     "output_type": "display_data"
    }
   ],
   "source": [
    "import matplotlib.pyplot as plt\n",
    "\n",
    "class_breaks = world_map.layers[0].layer.layerDefinition.drawingInfo.renderer.classBreakInfos\n",
    "max_values = []\n",
    "colors = []\n",
    "for class_break in class_breaks:\n",
    "    max_values.append(class_break.classMaxValue)\n",
    "    colors.append([color/255.0 for color in class_break.symbol.color])\n",
    "\n",
    "# adjust bin for last class break\n",
    "eps = 1e-1\n",
    "max_values[-1] += 2*eps\n",
    "    \n",
    "# build a histogram for the same class breaks\n",
    "plt.figure(figsize=(15,4))\n",
    "n, bins, patches = plt.hist(grid_featureset.sdf['hitCount'], bins=max_values)\n",
    "\n",
    "# apply the same color for each class to match the map\n",
    "for patch, color in zip(patches, colors):\n",
    "    patch.set_facecolor(color)\n",
    "    \n",
    "plt.title('Histogram of hit counts')"
   ]
  },
  {
   "cell_type": "code",
   "execution_count": 13,
   "metadata": {},
   "outputs": [
    {
     "data": {
      "text/html": [
       "<div>\n",
       "<style scoped>\n",
       "    .dataframe tbody tr th:only-of-type {\n",
       "        vertical-align: middle;\n",
       "    }\n",
       "\n",
       "    .dataframe tbody tr th {\n",
       "        vertical-align: top;\n",
       "    }\n",
       "\n",
       "    .dataframe thead th {\n",
       "        text-align: right;\n",
       "    }\n",
       "</style>\n",
       "<table border=\"1\" class=\"dataframe\">\n",
       "  <thead>\n",
       "    <tr style=\"text-align: right;\">\n",
       "      <th></th>\n",
       "      <th>hitCount</th>\n",
       "      <th>OBJECTID</th>\n",
       "      <th>SHAPE</th>\n",
       "    </tr>\n",
       "  </thead>\n",
       "  <tbody>\n",
       "    <tr>\n",
       "      <th>20</th>\n",
       "      <td>43180</td>\n",
       "      <td>21</td>\n",
       "      <td>{\"rings\": [[[3962492.1572117545, 3759028.54161...</td>\n",
       "    </tr>\n",
       "  </tbody>\n",
       "</table>\n",
       "</div>"
      ],
      "text/plain": [
       "    hitCount  OBJECTID                                              SHAPE\n",
       "20     43180        21  {\"rings\": [[[3962492.1572117545, 3759028.54161..."
      ]
     },
     "execution_count": 13,
     "metadata": {},
     "output_type": "execute_result"
    }
   ],
   "source": [
    "isin_toptwo = grid_featureset.sdf['hitCount']>=max_values[-3]\n",
    "grid_featureset.sdf[isin_toptwo]"
   ]
  },
  {
   "cell_type": "markdown",
   "metadata": {},
   "source": [
    "## Calculate statistics"
   ]
  },
  {
   "cell_type": "code",
   "execution_count": 14,
   "metadata": {},
   "outputs": [
    {
     "name": "stdout",
     "output_type": "stream",
     "text": [
      "5 most named countries:\n",
      "country\n",
      "Syria          72606\n",
      "India          70268\n",
      "Pakistan       55127\n",
      "Yemen          46666\n",
      "Afghanistan    42110\n",
      "dtype: int64\n",
      "\n",
      "5 most named locations:\n",
      "location   country \n",
      "Karachi    Pakistan    3700\n",
      "Hyderabad  Pakistan    2938\n",
      "Peshawar   Pakistan    2158\n",
      "Larkana    Pakistan    2110\n",
      "Jammu      India       2108\n",
      "dtype: int64\n",
      "\n",
      "Event types of the 5 most named locations:\n",
      "Protests                      10558\n",
      "Violence against civilians      809\n",
      "Riots                           554\n",
      "Explosions/Remote violence      527\n",
      "Battles                         453\n",
      "Strategic developments          113\n",
      "Name: event_type, dtype: int64\n",
      "\n",
      "5 most fatalities:\n",
      "location   country                     \n",
      "Mosul      Iraq                            10670\n",
      "Luena      Angola                           5490\n",
      "El Fasher  Sudan                            4998\n",
      "Maiduguri  Nigeria                          4981\n",
      "Bunia      Democratic Republic of Congo     4806\n",
      "Name: fatalities, dtype: int64\n",
      "\n",
      "Missing location values:\n",
      "location         0\n",
      "country          0\n",
      "admin1           0\n",
      "admin2       16059\n",
      "admin3      310483\n",
      "dtype: int64\n",
      "\n"
     ]
    }
   ],
   "source": [
    "def sum_missing_values(acled_data):\n",
    "    return acled_data[['location', 'country', 'admin1', 'admin2', 'admin3']].isnull().sum()\n",
    "\n",
    "def sum_by_fatalities(acled_data):\n",
    "    \"\"\"Group by drops None values!\"\"\"\n",
    "    return acled_data.groupby(['location', 'country'])['fatalities'].sum().nlargest(5)\n",
    "\n",
    "def count_by_event_types(acled_data):\n",
    "    \"\"\"Group by drops None values!\"\"\"\n",
    "    sizes = size_by_locations(acled_data)\n",
    "    min_size = sizes[-1]\n",
    "    #return acled_data.groupby(['location', 'country']).apply(lambda group: group['event_type'].unique() if min_size <= len(group) else None ) \n",
    "    return acled_data.groupby(['location', 'country']).filter(lambda group: min_size <= len(group))['event_type'].value_counts()\n",
    "\n",
    "def size_by_country(acled_data):\n",
    "    \"\"\"Group by drops None values!\"\"\"\n",
    "    return acled_data.groupby(['country']).size().nlargest(5)\n",
    "\n",
    "def size_by_locations(acled_data):\n",
    "    \"\"\"Group by drops None values!\"\"\"\n",
    "    return acled_data.groupby(['location', 'country']).size().nlargest(5)\n",
    "\n",
    "def print_stats(acled_data):\n",
    "    print('5 most named countries:')\n",
    "    print(size_by_country(acled_data))\n",
    "    print()\n",
    "    print('5 most named locations:')\n",
    "    print(size_by_locations(acled_data))\n",
    "    print()\n",
    "    print('Event types of the 5 most named locations:')\n",
    "    print(count_by_event_types(acled_data))\n",
    "    print()\n",
    "    print('5 most fatalities:')\n",
    "    print(sum_by_fatalities(acled_data))\n",
    "    print()\n",
    "    print('Missing location values:')\n",
    "    print(sum_missing_values(acled_data))\n",
    "    print()\n",
    "\n",
    "def print_value_counts(acled_data):\n",
    "    print('Location:')\n",
    "    print(acled_data['location'].value_counts())\n",
    "    print()\n",
    "    print('Country:')\n",
    "    print(acled_data['country'].value_counts())\n",
    "    print()\n",
    "    print('Admin1:')\n",
    "    print(acled_data['admin1'].value_counts())\n",
    "    print()\n",
    "    print('Admin2:')\n",
    "    print(acled_data['admin2'].value_counts())\n",
    "    print()\n",
    "    print('Admin3:')\n",
    "    print(acled_data['admin3'].value_counts())\n",
    "    print()\n",
    "\n",
    "#print_value_counts(acled_data)\n",
    "print_stats(acled_data)\n",
    "#acled_data['event_type'].unique()"
   ]
  },
  {
   "cell_type": "code",
   "execution_count": 15,
   "metadata": {},
   "outputs": [
    {
     "name": "stdout",
     "output_type": "stream",
     "text": [
      "5 most named countries:\n",
      "country\n",
      "India       56796\n",
      "Syria       53380\n",
      "Pakistan    46993\n",
      "Yemen       26986\n",
      "Somalia     25276\n",
      "dtype: int64\n",
      "\n",
      "5 most named locations:\n",
      "location   country \n",
      "Hyderabad  Pakistan    2806\n",
      "Karachi    Pakistan    2644\n",
      "Jammu      India       2052\n",
      "Peshawar   Pakistan    2018\n",
      "Larkana    Pakistan    2006\n",
      "dtype: int64\n",
      "\n",
      "Event types of the 5 most named locations:\n",
      "Protests                      9244\n",
      "Violence against civilians     778\n",
      "Riots                          513\n",
      "Explosions/Remote violence     495\n",
      "Battles                        408\n",
      "Strategic developments          88\n",
      "Name: event_type, dtype: int64\n",
      "\n",
      "5 most fatalities:\n",
      "location          country    \n",
      "Mosul             Iraq           7866\n",
      "Mosul - Al-Rabee  Iraq           4736\n",
      "Maiduguri         Nigeria        4177\n",
      "Mogadishu         Somalia        3853\n",
      "Pibor             South Sudan    3548\n",
      "Name: fatalities, dtype: int64\n",
      "\n",
      "Missing location values:\n",
      "location         0\n",
      "country          0\n",
      "admin1           0\n",
      "admin2        5082\n",
      "admin3      173184\n",
      "dtype: int64\n",
      "\n"
     ]
    }
   ],
   "source": [
    "acled_data_geodetailed = acled_data[acled_data['geo_precision'] == 1]\n",
    "print_stats(acled_data_geodetailed)\n",
    "#print_value_counts(acled_data_geodetailed)"
   ]
  },
  {
   "cell_type": "code",
   "execution_count": 16,
   "metadata": {},
   "outputs": [
    {
     "name": "stdout",
     "output_type": "stream",
     "text": [
      "5 most named countries:\n",
      "country\n",
      "India           61754\n",
      "Pakistan        41612\n",
      "Bangladesh      12098\n",
      "South Africa    10806\n",
      "Iran             5633\n",
      "dtype: int64\n",
      "\n",
      "5 most named locations:\n",
      "location   country \n",
      "Hyderabad  Pakistan    2858\n",
      "Karachi    Pakistan    2646\n",
      "Larkana    Pakistan    2071\n",
      "Jammu      India       2067\n",
      "Lahore     Pakistan    1659\n",
      "dtype: int64\n",
      "\n",
      "Event types of the 5 most named locations:\n",
      "Protests    10690\n",
      "Riots         611\n",
      "Name: event_type, dtype: int64\n",
      "\n",
      "5 most fatalities:\n",
      "location           country                     \n",
      "Jos                Nigeria                         1859\n",
      "Cairo-Nasr City 1  Egypt                            927\n",
      "Aru                Democratic Republic of Congo     803\n",
      "Khartoum           Sudan                            525\n",
      "Cairo              Egypt                            485\n",
      "Name: fatalities, dtype: int64\n",
      "\n",
      "Missing location values:\n",
      "location        0\n",
      "country         0\n",
      "admin1          0\n",
      "admin2       2683\n",
      "admin3      68100\n",
      "dtype: int64\n",
      "\n"
     ]
    }
   ],
   "source": [
    "acled_data_demonstrations = acled_data[(acled_data['event_type'] == 'Protests') | (acled_data['event_type'] == 'Riots')]\n",
    "print_stats(acled_data_demonstrations)"
   ]
  },
  {
   "cell_type": "code",
   "execution_count": 17,
   "metadata": {},
   "outputs": [],
   "source": [
    "from arcgis.features import GeoAccessor\n",
    "from geoint import geospatial\n",
    "\n",
    "def assign_points(acled_data):\n",
    "    with geospatial.geospatial_engine_factory.create_cloud_engine() as geospatial_engine:\n",
    "        points = geospatial_engine.create_points(acled_data['latitude'], acled_data['longitude'])\n",
    "        WGS84 = 4326\n",
    "        WEB_MERCATOR = 3857\n",
    "        mercator_points = geospatial_engine.project(points, WGS84, WEB_MERCATOR)\n",
    "        x = [mercator_point.x for mercator_point in mercator_points]\n",
    "        y = [mercator_point.y for mercator_point in mercator_points]\n",
    "        return acled_data.assign(x=x, y=y)\n",
    "\n",
    "def aggregate_locations(acled_data_spatial, area_data):\n",
    "    grid_locations = []\n",
    "    for index, area_row in area_data.iterrows():\n",
    "        area_envelope = area_row['SHAPE'].envelope\n",
    "        grid_location = { \n",
    "            'hitCount': area_row['hitCount'], \n",
    "            'locations': acled_data_spatial[(area_envelope.xmin <= acled_data_spatial['x']) \\\n",
    "                                            & (acled_data_spatial['x'] <= area_envelope.xmax) \\\n",
    "                                            & (area_envelope.ymin <= acled_data_spatial['y']) \\\n",
    "                                            & (acled_data_spatial['y'] <= area_envelope.ymax) \\\n",
    "                                           ]\n",
    "        }           \n",
    "        grid_locations.append(grid_location)\n",
    "    \n",
    "    return grid_locations\n",
    "    \n",
    "def locations_in_areas(acled_data, latitudes, longitudes, area_data):\n",
    "    with geospatial.geospatial_engine_factory.create_cloud_engine() as geospatial_engine:\n",
    "        points = geospatial_engine.create_points(latitudes, longitudes)\n",
    "        WGS84 = 4326\n",
    "        WEB_MERCATOR = 3857\n",
    "        mercator_points = geospatial_engine.project(points, WGS84, WEB_MERCATOR)\n",
    "    \n",
    "    grid_locations = []\n",
    "    for index, area_row in area_data.iterrows():\n",
    "        area_envelope = area_row['SHAPE'].envelope\n",
    "        grid_location = { \n",
    "            'hitCount': area_row['hitCount'], \n",
    "            'locations': dict()\n",
    "        }\n",
    "        for index in range(0, len(mercator_points)):\n",
    "            location = acled_data['location'][index]\n",
    "            if not location in grid_location['locations']:\n",
    "                mercator_point = mercator_points[index]\n",
    "                if area_envelope.xmin <= mercator_point.x \\\n",
    "                and mercator_point.x <= area_envelope.xmax \\\n",
    "                and area_envelope.ymin <= mercator_point.y \\\n",
    "                and mercator_point.y <= area_envelope.ymax:\n",
    "                    location_entry = {\n",
    "                        'location': location,\n",
    "                        'country': acled_data['country'][index],\n",
    "                        'admin1': acled_data['admin1'][index],\n",
    "                        'admin2': acled_data['admin2'][index],\n",
    "                        'admin3': acled_data['admin3'][index],\n",
    "                        'geometry': mercator_point\n",
    "                    }\n",
    "                    grid_location['locations'][location] = location_entry\n",
    "                    \n",
    "        grid_locations.append(grid_location)\n",
    "    \n",
    "    return grid_locations\n",
    "\n",
    "#acled_data_spatial = assign_points(acled_data)\n",
    "acled_data_spatial = assign_points(acled_data_demonstrations)\n",
    "area_data = grid_featureset.sdf.nlargest(3, 'hitCount')[['hitCount', 'SHAPE']]\n",
    "aggregated_locations = aggregate_locations(acled_data_spatial, area_data)\n",
    "#locations_in_areas(acled_data, latitudes, longitudes, area_data)"
   ]
  },
  {
   "cell_type": "code",
   "execution_count": 18,
   "metadata": {},
   "outputs": [
    {
     "data": {
      "text/html": [
       "<div>\n",
       "<style scoped>\n",
       "    .dataframe tbody tr th:only-of-type {\n",
       "        vertical-align: middle;\n",
       "    }\n",
       "\n",
       "    .dataframe tbody tr th {\n",
       "        vertical-align: top;\n",
       "    }\n",
       "\n",
       "    .dataframe thead th {\n",
       "        text-align: right;\n",
       "    }\n",
       "</style>\n",
       "<table border=\"1\" class=\"dataframe\">\n",
       "  <thead>\n",
       "    <tr style=\"text-align: right;\">\n",
       "      <th></th>\n",
       "      <th>data_id</th>\n",
       "      <th>iso</th>\n",
       "      <th>event_id_cnty</th>\n",
       "      <th>event_id_no_cnty</th>\n",
       "      <th>event_date</th>\n",
       "      <th>year</th>\n",
       "      <th>time_precision</th>\n",
       "      <th>event_type</th>\n",
       "      <th>sub_event_type</th>\n",
       "      <th>actor1</th>\n",
       "      <th>...</th>\n",
       "      <th>longitude</th>\n",
       "      <th>geo_precision</th>\n",
       "      <th>source</th>\n",
       "      <th>source_scale</th>\n",
       "      <th>notes</th>\n",
       "      <th>fatalities</th>\n",
       "      <th>timestamp</th>\n",
       "      <th>iso3</th>\n",
       "      <th>x</th>\n",
       "      <th>y</th>\n",
       "    </tr>\n",
       "  </thead>\n",
       "  <tbody>\n",
       "    <tr>\n",
       "      <th>219</th>\n",
       "      <td>6759879</td>\n",
       "      <td>422</td>\n",
       "      <td>LBN3622</td>\n",
       "      <td>3622</td>\n",
       "      <td>25 January 2020</td>\n",
       "      <td>2020</td>\n",
       "      <td>1</td>\n",
       "      <td>Protests</td>\n",
       "      <td>Peaceful protest</td>\n",
       "      <td>Protesters (Lebanon)</td>\n",
       "      <td>...</td>\n",
       "      <td>35.8497</td>\n",
       "      <td>1</td>\n",
       "      <td>An-Nahar</td>\n",
       "      <td>National</td>\n",
       "      <td>On January 25, a march was held in Tripoli fro...</td>\n",
       "      <td>0</td>\n",
       "      <td>1580149675</td>\n",
       "      <td>LBN</td>\n",
       "      <td>3.990770e+06</td>\n",
       "      <td>4.087592e+06</td>\n",
       "    </tr>\n",
       "    <tr>\n",
       "      <th>399</th>\n",
       "      <td>6760016</td>\n",
       "      <td>422</td>\n",
       "      <td>LBN3604</td>\n",
       "      <td>3604</td>\n",
       "      <td>24 January 2020</td>\n",
       "      <td>2020</td>\n",
       "      <td>1</td>\n",
       "      <td>Protests</td>\n",
       "      <td>Peaceful protest</td>\n",
       "      <td>Protesters (Lebanon)</td>\n",
       "      <td>...</td>\n",
       "      <td>35.8142</td>\n",
       "      <td>1</td>\n",
       "      <td>Murr TV</td>\n",
       "      <td>National</td>\n",
       "      <td>On January 24, a demonstration was held outsid...</td>\n",
       "      <td>0</td>\n",
       "      <td>1580149676</td>\n",
       "      <td>LBN</td>\n",
       "      <td>3.986819e+06</td>\n",
       "      <td>4.089536e+06</td>\n",
       "    </tr>\n",
       "    <tr>\n",
       "      <th>426</th>\n",
       "      <td>6763618</td>\n",
       "      <td>760</td>\n",
       "      <td>SYR74576</td>\n",
       "      <td>74576</td>\n",
       "      <td>24 January 2020</td>\n",
       "      <td>2020</td>\n",
       "      <td>1</td>\n",
       "      <td>Protests</td>\n",
       "      <td>Peaceful protest</td>\n",
       "      <td>Protesters (Syria)</td>\n",
       "      <td>...</td>\n",
       "      <td>36.3040</td>\n",
       "      <td>1</td>\n",
       "      <td>SOHR; Liveuamap</td>\n",
       "      <td>Local partner-New media</td>\n",
       "      <td>On 24 January 2020, residents of Hrak town in ...</td>\n",
       "      <td>0</td>\n",
       "      <td>1580161640</td>\n",
       "      <td>SYR</td>\n",
       "      <td>4.041343e+06</td>\n",
       "      <td>3.862260e+06</td>\n",
       "    </tr>\n",
       "    <tr>\n",
       "      <th>446</th>\n",
       "      <td>6760051</td>\n",
       "      <td>422</td>\n",
       "      <td>LBN3603</td>\n",
       "      <td>3603</td>\n",
       "      <td>24 January 2020</td>\n",
       "      <td>2020</td>\n",
       "      <td>1</td>\n",
       "      <td>Protests</td>\n",
       "      <td>Peaceful protest</td>\n",
       "      <td>Protesters (Lebanon)</td>\n",
       "      <td>...</td>\n",
       "      <td>35.8497</td>\n",
       "      <td>1</td>\n",
       "      <td>Murr TV</td>\n",
       "      <td>National</td>\n",
       "      <td>On January 24, protesters of the revolution ag...</td>\n",
       "      <td>0</td>\n",
       "      <td>1580149676</td>\n",
       "      <td>LBN</td>\n",
       "      <td>3.990770e+06</td>\n",
       "      <td>4.087592e+06</td>\n",
       "    </tr>\n",
       "    <tr>\n",
       "      <th>805</th>\n",
       "      <td>6760043</td>\n",
       "      <td>422</td>\n",
       "      <td>LBN3608</td>\n",
       "      <td>3608</td>\n",
       "      <td>23 January 2020</td>\n",
       "      <td>2020</td>\n",
       "      <td>1</td>\n",
       "      <td>Protests</td>\n",
       "      <td>Peaceful protest</td>\n",
       "      <td>Protesters (Lebanon)</td>\n",
       "      <td>...</td>\n",
       "      <td>36.1311</td>\n",
       "      <td>1</td>\n",
       "      <td>Murr TV</td>\n",
       "      <td>National</td>\n",
       "      <td>On January 23, students in Deir al-Ahmar held ...</td>\n",
       "      <td>0</td>\n",
       "      <td>1580149676</td>\n",
       "      <td>LBN</td>\n",
       "      <td>4.022096e+06</td>\n",
       "      <td>4.045639e+06</td>\n",
       "    </tr>\n",
       "    <tr>\n",
       "      <th>...</th>\n",
       "      <td>...</td>\n",
       "      <td>...</td>\n",
       "      <td>...</td>\n",
       "      <td>...</td>\n",
       "      <td>...</td>\n",
       "      <td>...</td>\n",
       "      <td>...</td>\n",
       "      <td>...</td>\n",
       "      <td>...</td>\n",
       "      <td>...</td>\n",
       "      <td>...</td>\n",
       "      <td>...</td>\n",
       "      <td>...</td>\n",
       "      <td>...</td>\n",
       "      <td>...</td>\n",
       "      <td>...</td>\n",
       "      <td>...</td>\n",
       "      <td>...</td>\n",
       "      <td>...</td>\n",
       "      <td>...</td>\n",
       "      <td>...</td>\n",
       "    </tr>\n",
       "    <tr>\n",
       "      <th>477944</th>\n",
       "      <td>5362097</td>\n",
       "      <td>422</td>\n",
       "      <td>LBN488</td>\n",
       "      <td>488</td>\n",
       "      <td>16 January 2016</td>\n",
       "      <td>2016</td>\n",
       "      <td>1</td>\n",
       "      <td>Protests</td>\n",
       "      <td>Peaceful protest</td>\n",
       "      <td>Protesters (Lebanon)</td>\n",
       "      <td>...</td>\n",
       "      <td>35.6192</td>\n",
       "      <td>1</td>\n",
       "      <td>National News Agency Lebanon</td>\n",
       "      <td>National</td>\n",
       "      <td>Women protesters asked for amnesty for their r...</td>\n",
       "      <td>0</td>\n",
       "      <td>1561470066</td>\n",
       "      <td>LBN</td>\n",
       "      <td>3.965111e+06</td>\n",
       "      <td>4.013116e+06</td>\n",
       "    </tr>\n",
       "    <tr>\n",
       "      <th>477946</th>\n",
       "      <td>5362098</td>\n",
       "      <td>422</td>\n",
       "      <td>LBN489</td>\n",
       "      <td>489</td>\n",
       "      <td>16 January 2016</td>\n",
       "      <td>2016</td>\n",
       "      <td>1</td>\n",
       "      <td>Protests</td>\n",
       "      <td>Peaceful protest</td>\n",
       "      <td>Protesters (Lebanon)</td>\n",
       "      <td>...</td>\n",
       "      <td>35.8497</td>\n",
       "      <td>1</td>\n",
       "      <td>National News Agency Lebanon</td>\n",
       "      <td>National</td>\n",
       "      <td>The families of Islamist inmates at Roumieh ja...</td>\n",
       "      <td>0</td>\n",
       "      <td>1561470066</td>\n",
       "      <td>LBN</td>\n",
       "      <td>3.990770e+06</td>\n",
       "      <td>4.087592e+06</td>\n",
       "    </tr>\n",
       "    <tr>\n",
       "      <th>478148</th>\n",
       "      <td>5362094</td>\n",
       "      <td>422</td>\n",
       "      <td>LBN485</td>\n",
       "      <td>485</td>\n",
       "      <td>15 January 2016</td>\n",
       "      <td>2016</td>\n",
       "      <td>1</td>\n",
       "      <td>Protests</td>\n",
       "      <td>Peaceful protest</td>\n",
       "      <td>Protesters (Lebanon)</td>\n",
       "      <td>...</td>\n",
       "      <td>35.8811</td>\n",
       "      <td>1</td>\n",
       "      <td>National News Agency Lebanon</td>\n",
       "      <td>National</td>\n",
       "      <td>Protesters held a sit-in held in al-Marj town ...</td>\n",
       "      <td>0</td>\n",
       "      <td>1561470066</td>\n",
       "      <td>LBN</td>\n",
       "      <td>3.994266e+06</td>\n",
       "      <td>3.996956e+06</td>\n",
       "    </tr>\n",
       "    <tr>\n",
       "      <th>478311</th>\n",
       "      <td>5362090</td>\n",
       "      <td>422</td>\n",
       "      <td>LBN481</td>\n",
       "      <td>481</td>\n",
       "      <td>14 January 2016</td>\n",
       "      <td>2016</td>\n",
       "      <td>1</td>\n",
       "      <td>Riots</td>\n",
       "      <td>Violent demonstration</td>\n",
       "      <td>Rioters (Lebanon)</td>\n",
       "      <td>...</td>\n",
       "      <td>35.8497</td>\n",
       "      <td>1</td>\n",
       "      <td>National News Agency Lebanon</td>\n",
       "      <td>National</td>\n",
       "      <td>Tabbaneh-Qobbeh road in Tripoli was blocked Th...</td>\n",
       "      <td>0</td>\n",
       "      <td>1561470066</td>\n",
       "      <td>LBN</td>\n",
       "      <td>3.990770e+06</td>\n",
       "      <td>4.087592e+06</td>\n",
       "    </tr>\n",
       "    <tr>\n",
       "      <th>479241</th>\n",
       "      <td>5759692</td>\n",
       "      <td>422</td>\n",
       "      <td>LBN468</td>\n",
       "      <td>468</td>\n",
       "      <td>09 January 2016</td>\n",
       "      <td>2016</td>\n",
       "      <td>1</td>\n",
       "      <td>Protests</td>\n",
       "      <td>Peaceful protest</td>\n",
       "      <td>Protesters (Lebanon)</td>\n",
       "      <td>...</td>\n",
       "      <td>35.9025</td>\n",
       "      <td>2</td>\n",
       "      <td>Daily Star (Lebanon)</td>\n",
       "      <td>National</td>\n",
       "      <td>Hundreds of demonstrators Friday briefly block...</td>\n",
       "      <td>0</td>\n",
       "      <td>1567462146</td>\n",
       "      <td>LBN</td>\n",
       "      <td>3.996648e+06</td>\n",
       "      <td>3.989701e+06</td>\n",
       "    </tr>\n",
       "  </tbody>\n",
       "</table>\n",
       "<p>2103 rows × 33 columns</p>\n",
       "</div>"
      ],
      "text/plain": [
       "        data_id  iso event_id_cnty  event_id_no_cnty       event_date  year  \\\n",
       "219     6759879  422       LBN3622              3622  25 January 2020  2020   \n",
       "399     6760016  422       LBN3604              3604  24 January 2020  2020   \n",
       "426     6763618  760      SYR74576             74576  24 January 2020  2020   \n",
       "446     6760051  422       LBN3603              3603  24 January 2020  2020   \n",
       "805     6760043  422       LBN3608              3608  23 January 2020  2020   \n",
       "...         ...  ...           ...               ...              ...   ...   \n",
       "477944  5362097  422        LBN488               488  16 January 2016  2016   \n",
       "477946  5362098  422        LBN489               489  16 January 2016  2016   \n",
       "478148  5362094  422        LBN485               485  15 January 2016  2016   \n",
       "478311  5362090  422        LBN481               481  14 January 2016  2016   \n",
       "479241  5759692  422        LBN468               468  09 January 2016  2016   \n",
       "\n",
       "        time_precision event_type         sub_event_type  \\\n",
       "219                  1   Protests       Peaceful protest   \n",
       "399                  1   Protests       Peaceful protest   \n",
       "426                  1   Protests       Peaceful protest   \n",
       "446                  1   Protests       Peaceful protest   \n",
       "805                  1   Protests       Peaceful protest   \n",
       "...                ...        ...                    ...   \n",
       "477944               1   Protests       Peaceful protest   \n",
       "477946               1   Protests       Peaceful protest   \n",
       "478148               1   Protests       Peaceful protest   \n",
       "478311               1      Riots  Violent demonstration   \n",
       "479241               1   Protests       Peaceful protest   \n",
       "\n",
       "                      actor1  ... longitude  geo_precision  \\\n",
       "219     Protesters (Lebanon)  ...   35.8497              1   \n",
       "399     Protesters (Lebanon)  ...   35.8142              1   \n",
       "426       Protesters (Syria)  ...   36.3040              1   \n",
       "446     Protesters (Lebanon)  ...   35.8497              1   \n",
       "805     Protesters (Lebanon)  ...   36.1311              1   \n",
       "...                      ...  ...       ...            ...   \n",
       "477944  Protesters (Lebanon)  ...   35.6192              1   \n",
       "477946  Protesters (Lebanon)  ...   35.8497              1   \n",
       "478148  Protesters (Lebanon)  ...   35.8811              1   \n",
       "478311     Rioters (Lebanon)  ...   35.8497              1   \n",
       "479241  Protesters (Lebanon)  ...   35.9025              2   \n",
       "\n",
       "                              source             source_scale  \\\n",
       "219                         An-Nahar                 National   \n",
       "399                          Murr TV                 National   \n",
       "426                  SOHR; Liveuamap  Local partner-New media   \n",
       "446                          Murr TV                 National   \n",
       "805                          Murr TV                 National   \n",
       "...                              ...                      ...   \n",
       "477944  National News Agency Lebanon                 National   \n",
       "477946  National News Agency Lebanon                 National   \n",
       "478148  National News Agency Lebanon                 National   \n",
       "478311  National News Agency Lebanon                 National   \n",
       "479241          Daily Star (Lebanon)                 National   \n",
       "\n",
       "                                                    notes  fatalities  \\\n",
       "219     On January 25, a march was held in Tripoli fro...           0   \n",
       "399     On January 24, a demonstration was held outsid...           0   \n",
       "426     On 24 January 2020, residents of Hrak town in ...           0   \n",
       "446     On January 24, protesters of the revolution ag...           0   \n",
       "805     On January 23, students in Deir al-Ahmar held ...           0   \n",
       "...                                                   ...         ...   \n",
       "477944  Women protesters asked for amnesty for their r...           0   \n",
       "477946  The families of Islamist inmates at Roumieh ja...           0   \n",
       "478148  Protesters held a sit-in held in al-Marj town ...           0   \n",
       "478311  Tabbaneh-Qobbeh road in Tripoli was blocked Th...           0   \n",
       "479241  Hundreds of demonstrators Friday briefly block...           0   \n",
       "\n",
       "         timestamp iso3             x             y  \n",
       "219     1580149675  LBN  3.990770e+06  4.087592e+06  \n",
       "399     1580149676  LBN  3.986819e+06  4.089536e+06  \n",
       "426     1580161640  SYR  4.041343e+06  3.862260e+06  \n",
       "446     1580149676  LBN  3.990770e+06  4.087592e+06  \n",
       "805     1580149676  LBN  4.022096e+06  4.045639e+06  \n",
       "...            ...  ...           ...           ...  \n",
       "477944  1561470066  LBN  3.965111e+06  4.013116e+06  \n",
       "477946  1561470066  LBN  3.990770e+06  4.087592e+06  \n",
       "478148  1561470066  LBN  3.994266e+06  3.996956e+06  \n",
       "478311  1561470066  LBN  3.990770e+06  4.087592e+06  \n",
       "479241  1567462146  LBN  3.996648e+06  3.989701e+06  \n",
       "\n",
       "[2103 rows x 33 columns]"
      ]
     },
     "execution_count": 18,
     "metadata": {},
     "output_type": "execute_result"
    }
   ],
   "source": [
    "aggregated_locations[0]['locations']"
   ]
  },
  {
   "cell_type": "code",
   "execution_count": 35,
   "metadata": {},
   "outputs": [],
   "source": [
    "acled_data_demonstrations = acled_data[(acled_data['event_type'] == 'Protests') | (acled_data['event_type'] == 'Riots')]"
   ]
  },
  {
   "cell_type": "code",
   "execution_count": 63,
   "metadata": {},
   "outputs": [
    {
     "data": {
      "text/plain": [
       "latitude  longitude  location\n",
       "-33.9473   18.5751   2                    [Cape Town - Bishop Lavis, Bishop Lavis]\n",
       "-33.9000   18.6333   2                          [Cape Town - Bellville, Bellville]\n",
       "-26.4164   27.8650   2                         [Johannesburg - Pinetown, Pinetown]\n",
       "-26.2667   27.8667   2                             [Johannesburg - Soweto, Soweto]\n",
       "-25.9957   28.1971   2           [Johannesburg - Midrand, Johannesburg - Ivory ...\n",
       "-22.9064  -43.1822   2             [Rio de Janeiro - Central Zone, Rio de Janeiro]\n",
       " 13.9315   75.5679   2                                       [Shimoga, Shivamogga]\n",
       " 15.8521   74.5044   2                                         [Belagavi, Belgaum]\n",
       " 16.0633  -95.3919   2           [Santa Gertudris Miramar, Santa Gertrudis Mira...\n",
       " 23.3965   84.1066   2                                          [Regai, Mahuadanr]\n",
       " 23.4116   84.1145   2                                             [Bohta, Rampur]\n",
       " 24.8979   66.9933   2                              [Karachi-Site, Karachi - SITE]\n",
       " 30.6799   76.7221   2                                          [Mohali, Zirakpur]\n",
       " 33.3248   44.4213   2                                [Baghdad, Baghdad - Karadah]\n",
       " 34.6766   73.0271   2                                        [Battagram, Batgram]\n",
       " 35.3528   45.8668   2                                    [Seyid Sadiq, Saidsadiq]\n",
       " 36.6964   10.4917   2                                           [Nabeul, Soliman]\n",
       " 36.8494   40.0747   2                                    [Ras al-Ain, Ras Al Ain]\n",
       " 36.9888   41.1842   2                              [Big Damkhiyeh, Big Dankhiyeh]\n",
       " 42.0050   21.4289   2                                     [Skopje-Centar, Skopje]\n",
       "Name: location, dtype: object"
      ]
     },
     "execution_count": 63,
     "metadata": {},
     "output_type": "execute_result"
    }
   ],
   "source": [
    "unique_counts = acled_data_demonstrations.groupby(['latitude', 'longitude']).location.transform('nunique')\n",
    "acled_data_demonstrations[1 < unique_counts].groupby(['latitude', 'longitude', unique_counts]).location.unique()\n",
    "#value_counts\n",
    "#value_counts[value_counts.groupby(level=1).transform('nunique').gt(1)]\n",
    "#acled_data[(acled_data['latitude'] == -54.8062) & (acled_data['longitude'] == -68.3102)]"
   ]
  },
  {
   "cell_type": "code",
   "execution_count": null,
   "metadata": {},
   "outputs": [],
   "source": []
  }
 ],
 "metadata": {
  "kernelspec": {
   "display_name": "Python 3",
   "language": "python",
   "name": "python3"
  },
  "language_info": {
   "codemirror_mode": {
    "name": "ipython",
    "version": 3
   },
   "file_extension": ".py",
   "mimetype": "text/x-python",
   "name": "python",
   "nbconvert_exporter": "python",
   "pygments_lexer": "ipython3",
   "version": "3.8.2"
  }
 },
 "nbformat": 4,
 "nbformat_minor": 2
}
