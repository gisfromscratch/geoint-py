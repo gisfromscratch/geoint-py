{
 "cells": [
  {
   "cell_type": "markdown",
   "id": "1301615a",
   "metadata": {},
   "source": [
    "# Mapping Russian invasion of Ukraine\n",
    "This sample notebook visualizes the armed conflict events of a specific day.\n",
    "You need a RapidAPI account and a valid API key."
   ]
  },
  {
   "cell_type": "code",
   "execution_count": null,
   "id": "3ae62c06",
   "metadata": {},
   "outputs": [],
   "source": [
    "from arcgis.gis import GIS\n",
    "from arcgis.features import FeatureLayer, FeatureSet\n",
    "from arcgis.mapping import WebMap\n",
    "from arcgis.mapping.renderer import generate_simple, generate_classbreaks\n",
    "from datetime import datetime\n",
    "from georapid.client import GeoRapidClient\n",
    "from georapid.factory import EnvironmentClientFactory\n",
    "from georapid.conflicts import aggregate, query\n",
    "from georapid.formats import OutFormat"
   ]
  },
  {
   "cell_type": "markdown",
   "id": "2b12d2c1",
   "metadata": {},
   "source": [
    "## Define the date of interest"
   ]
  },
  {
   "cell_type": "code",
   "execution_count": null,
   "id": "b54932c3",
   "metadata": {},
   "outputs": [],
   "source": [
    "date_of_interest = datetime(2023, 1, 8)"
   ]
  },
  {
   "cell_type": "markdown",
   "id": "4bb08e3d",
   "metadata": {},
   "source": [
    "## Utility functions for mapping capabilities"
   ]
  },
  {
   "cell_type": "code",
   "execution_count": null,
   "id": "58f7c319",
   "metadata": {},
   "outputs": [],
   "source": [
    "def create_osm_webmap():\n",
    "    \"\"\"Creates a simple web map using the OSM basemap.\"\"\"\n",
    "    webmap = WebMap()\n",
    "    webmap.basemap = 'osm'\n",
    "    return webmap\n",
    "\n",
    "def create_events_renderer():\n",
    "    \"\"\"Creates a simple renderer representing events as areas of interests.\"\"\"\n",
    "    renderer = generate_simple(geometry_type='Polygon', colors=[171, 31, 42, 191])\n",
    "    renderer_outline = {\n",
    "        'type': 'esriSLS',\n",
    "        'color': [0, 0, 0, 191],\n",
    "        'width': 0.75,\n",
    "        'style': 'esriSLSSolid'\n",
    "    }\n",
    "    renderer['symbol']['outline'] = renderer_outline\n",
    "    return renderer\n",
    "\n",
    "def create_aggregated_renderer(spatial_df, field = 'count'):\n",
    "    \"\"\"Create a class-breaks renderer representing aggregated events as hexagonal spatial bins.\"\"\"\n",
    "    renderer = generate_classbreaks(sdf_or_series=spatial_df, geometry='Polygon', colors='OrRd', field=field)\n",
    "    return renderer"
   ]
  },
  {
   "cell_type": "markdown",
   "id": "ff83428b",
   "metadata": {},
   "source": [
    "## Connect to RapidAPI\n",
    "The factory implementation expects a system environment variable named 'x_rapid_api' containing your API key."
   ]
  },
  {
   "cell_type": "code",
   "execution_count": null,
   "id": "ef6341c8",
   "metadata": {},
   "outputs": [],
   "source": [
    "host = 'geoconflicts.p.rapidapi.com'\n",
    "conflicts_client = EnvironmentClientFactory.create_client_with_host(host)\n",
    "\n",
    "features_dict = query(conflicts_client, date=date_of_interest, format=OutFormat.ESRI)\n",
    "events_featureset = FeatureSet.from_dict(features_dict)\n",
    "\n",
    "aggregated_features_dict = aggregate(conflicts_client, date=date_of_interest, format=OutFormat.ESRI)\n",
    "aggregated_events_featureset = FeatureSet.from_dict(aggregated_features_dict)"
   ]
  },
  {
   "cell_type": "markdown",
   "id": "b6be3e16",
   "metadata": {},
   "source": [
    "## Mapping the armed conflict events"
   ]
  },
  {
   "cell_type": "code",
   "execution_count": null,
   "id": "f5589c60",
   "metadata": {},
   "outputs": [],
   "source": [
    "# Mapping the aggregated armed conflict events\n",
    "focus_map = create_osm_webmap()\n",
    "aggregated_events_renderer = create_aggregated_renderer(aggregated_events_featureset.sdf)\n",
    "focus_map.add_layer(aggregated_events_featureset, {'renderer': aggregated_events_renderer, 'opacity': 0.7})\n",
    "focus_map"
   ]
  },
  {
   "cell_type": "code",
   "execution_count": null,
   "id": "fa5b0d5d",
   "metadata": {},
   "outputs": [],
   "source": [
    "# Mapping the armed conflict events\n",
    "focus_map = create_osm_webmap()\n",
    "events_renderer = create_events_renderer()\n",
    "focus_map.add_layer(events_featureset, {'renderer': events_renderer, 'opacity': 0.7})\n",
    "focus_map"
   ]
  },
  {
   "cell_type": "code",
   "execution_count": null,
   "id": "40791769",
   "metadata": {},
   "outputs": [],
   "source": []
  }
 ],
 "metadata": {
  "kernelspec": {
   "display_name": "Python 3 (ipykernel)",
   "language": "python",
   "name": "python3"
  },
  "language_info": {
   "codemirror_mode": {
    "name": "ipython",
    "version": 3
   },
   "file_extension": ".py",
   "mimetype": "text/x-python",
   "name": "python",
   "nbconvert_exporter": "python",
   "pygments_lexer": "ipython3",
   "version": "3.9.15"
  }
 },
 "nbformat": 4,
 "nbformat_minor": 5
}
