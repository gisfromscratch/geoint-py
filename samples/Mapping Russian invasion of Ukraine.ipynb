{
 "cells": [
  {
   "cell_type": "markdown",
   "id": "1301615a",
   "metadata": {},
   "source": [
    "# Mapping Russian invasion of Ukraine\n",
    "This sample notebook visualizes the armed conflict events of 24th February 2022.\n",
    "You need a RapidAPI account and a valid API key."
   ]
  },
  {
   "cell_type": "code",
   "execution_count": null,
   "id": "3ae62c06",
   "metadata": {},
   "outputs": [],
   "source": [
    "from arcgis.gis import GIS\n",
    "from arcgis.features import FeatureLayer, FeatureSet\n",
    "from arcgis.mapping import WebMap\n",
    "from arcgis.mapping.renderer import generate_simple, generate_classbreaks\n",
    "from datetime import datetime\n",
    "from georapid.client import GeoRapidClient\n",
    "from georapid.factory import EnvironmentClientFactory\n",
    "from georapid.conflicts import aggregate, query\n",
    "from georapid.formats import OutFormat"
   ]
  },
  {
   "cell_type": "code",
   "execution_count": null,
   "id": "c5cbc87d",
   "metadata": {},
   "outputs": [],
   "source": []
  }
 ],
 "metadata": {
  "kernelspec": {
   "display_name": "Python 3 (ipykernel)",
   "language": "python",
   "name": "python3"
  }
 },
 "nbformat": 4,
 "nbformat_minor": 5
}
