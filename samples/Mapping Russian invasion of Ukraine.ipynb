{
 "cells": [
  {
   "cell_type": "markdown",
   "id": "1301615a",
   "metadata": {},
   "source": [
    "# Mapping Russian invasion of Ukraine\n",
    "This sample notebook visualizes the armed conflict events of 24th February 2022.\n",
    "You need a RapidAPI account and a valid API key."
   ]
  },
  {
   "cell_type": "code",
   "execution_count": 1,
   "id": "3ae62c06",
   "metadata": {},
   "outputs": [],
   "source": [
    "from arcgis.gis import GIS\n",
    "from arcgis.features import FeatureLayer, FeatureSet\n",
    "from arcgis.mapping import WebMap\n",
    "from arcgis.mapping.renderer import generate_simple, generate_classbreaks\n",
    "from datetime import datetime\n",
    "from georapid.client import GeoRapidClient\n",
    "from georapid.factory import EnvironmentClientFactory\n",
    "from georapid.conflicts import aggregate, query\n",
    "from georapid.formats import OutFormat"
   ]
  },
  {
   "cell_type": "markdown",
   "id": "4bb08e3d",
   "metadata": {},
   "source": [
    "## Utility functions for mapping capabilities"
   ]
  },
  {
   "cell_type": "code",
   "execution_count": 2,
   "id": "58f7c319",
   "metadata": {},
   "outputs": [],
   "source": [
    "def create_osm_webmap():\n",
    "    \"\"\"Creates a simple web map using the OSM basemap.\"\"\"\n",
    "    webmap = WebMap()\n",
    "    webmap.basemap = 'osm'\n",
    "    return webmap\n",
    "\n",
    "def create_events_renderer():\n",
    "    \"\"\"Creates a simple renderer representing events as areas of interests.\"\"\"\n",
    "    renderer = generate_simple(geometry_type='Polygon', colors=[171, 31, 42, 191])\n",
    "    renderer_outline = {\n",
    "        'type': 'esriSLS',\n",
    "        'color': [0, 0, 0, 191],\n",
    "        'width': 0.75,\n",
    "        'style': 'esriSLSSolid'\n",
    "    }\n",
    "    renderer['symbol']['outline'] = renderer_outline\n",
    "    return renderer\n",
    "\n",
    "def create_aggregated_renderer(spatial_df, field = 'count'):\n",
    "    \"\"\"Create a class-breaks renderer representing aggregated events as hexagonal spatial bins.\"\"\"\n",
    "    renderer = generate_classbreaks(sdf_or_series=spatial_df, geometry='Polygon', colors='OrRd', field=field)\n",
    "    return renderer"
   ]
  },
  {
   "cell_type": "markdown",
   "id": "ff83428b",
   "metadata": {},
   "source": [
    "## Connect to RapidAPI\n",
    "The factory implementation expects a system environment variable named 'x_rapid_api' containing your API key."
   ]
  },
  {
   "cell_type": "code",
   "execution_count": 4,
   "id": "ef6341c8",
   "metadata": {},
   "outputs": [],
   "source": [
    "host = 'geoconflicts.p.rapidapi.com'\n",
    "conflicts_client = EnvironmentClientFactory.create_client_with_host(host)\n",
    "\n",
    "features_dict = query(conflicts_client, date=datetime(2022, 2, 24), format=OutFormat.ESRI)\n",
    "events_featureset = FeatureSet.from_dict(features_dict)\n",
    "\n",
    "aggregated_features_dict = aggregate(conflicts_client, date=datetime(2022, 2, 24), format=OutFormat.ESRI)\n",
    "aggregated_events_featureset = FeatureSet.from_dict(aggregated_features_dict)"
   ]
  },
  {
   "cell_type": "markdown",
   "id": "b6be3e16",
   "metadata": {},
   "source": [
    "## Mapping the armed conflict events"
   ]
  },
  {
   "cell_type": "code",
   "execution_count": 5,
   "id": "f5589c60",
   "metadata": {},
   "outputs": [
    {
     "data": {
      "application/vnd.jupyter.widget-view+json": {
       "model_id": "19292ca13fde45639550ed475d92c8cb",
       "version_major": 2,
       "version_minor": 0
      },
      "text/plain": [
       "MapView(hide_mode_switch=True, layout=Layout(height='400px', width='100%'))"
      ]
     },
     "metadata": {},
     "output_type": "display_data"
    },
    {
     "data": {
      "text/html": [
       "<div class=\"map-static-img-preview-38c8ab37-0a65-4661-9376-939ea6ff9704\"><img src=\"\"></img></div>"
      ],
      "text/plain": [
       "<IPython.core.display.HTML object>"
      ]
     },
     "metadata": {},
     "output_type": "display_data"
    },
    {
     "data": {
      "text/html": [
       "<div class=\"map-html-embed-preview-38c8ab37-0a65-4661-9376-939ea6ff9704\"></div>"
      ],
      "text/plain": [
       "<IPython.core.display.HTML object>"
      ]
     },
     "metadata": {},
     "output_type": "display_data"
    }
   ],
   "source": [
    "# Mapping the aggregated armed conflict events\n",
    "focus_map = create_osm_webmap()\n",
    "aggregated_events_renderer = create_aggregated_renderer(aggregated_events_featureset.sdf)\n",
    "focus_map.add_layer(aggregated_events_featureset, {'renderer': aggregated_events_renderer, 'opacity': 0.7})\n",
    "focus_map"
   ]
  },
  {
   "cell_type": "code",
   "execution_count": 6,
   "id": "fa5b0d5d",
   "metadata": {},
   "outputs": [
    {
     "data": {
      "application/vnd.jupyter.widget-view+json": {
       "model_id": "ce91f29f9a6e46f692c598eabd31bd92",
       "version_major": 2,
       "version_minor": 0
      },
      "text/plain": [
       "MapView(hide_mode_switch=True, layout=Layout(height='400px', width='100%'))"
      ]
     },
     "metadata": {},
     "output_type": "display_data"
    },
    {
     "data": {
      "text/html": [
       "<div class=\"map-static-img-preview-4b8d8811-1479-4c49-a4c6-3d23beffd1ad\"><img src=\"\"></img></div>"
      ],
      "text/plain": [
       "<IPython.core.display.HTML object>"
      ]
     },
     "metadata": {},
     "output_type": "display_data"
    },
    {
     "data": {
      "text/html": [
       "<div class=\"map-html-embed-preview-4b8d8811-1479-4c49-a4c6-3d23beffd1ad\"></div>"
      ],
      "text/plain": [
       "<IPython.core.display.HTML object>"
      ]
     },
     "metadata": {},
     "output_type": "display_data"
    }
   ],
   "source": [
    "# Mapping the armed conflict events\n",
    "focus_map = create_osm_webmap()\n",
    "events_renderer = create_events_renderer()\n",
    "focus_map.add_layer(events_featureset, {'renderer': events_renderer, 'opacity': 0.7})\n",
    "focus_map"
   ]
  },
  {
   "cell_type": "code",
   "execution_count": null,
   "id": "40791769",
   "metadata": {},
   "outputs": [],
   "source": []
  }
 ],
 "metadata": {
  "kernelspec": {
   "display_name": "Python 3 (ipykernel)",
   "language": "python",
   "name": "python3"
  },
  "language_info": {
   "codemirror_mode": {
    "name": "ipython",
    "version": 3
   },
   "file_extension": ".py",
   "mimetype": "text/x-python",
   "name": "python",
   "nbconvert_exporter": "python",
   "pygments_lexer": "ipython3",
   "version": "3.9.15"
  }
 },
 "nbformat": 4,
 "nbformat_minor": 5
}
