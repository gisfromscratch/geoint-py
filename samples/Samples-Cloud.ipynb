{
 "cells": [
  {
   "attachments": {},
   "cell_type": "markdown",
   "metadata": {},
   "source": [
    "# Visualize and analyze the geospatial features of protests and armed conflicts using the georapid API hosted on Rapid API"
   ]
  },
  {
   "attachments": {},
   "cell_type": "markdown",
   "metadata": {},
   "source": [
    "* You need a valid Rapid API account\n",
    "* The system environment must contain your Rapid API key ('x_rapidapi_key') and is send as a http header parameter."
   ]
  },
  {
   "cell_type": "code",
   "execution_count": null,
   "metadata": {},
   "outputs": [],
   "source": [
    "# author: Jan Tschada\n",
    "# SPDX-License-Identifer: Apache-2.0\n",
    "from arcgis import GIS\n",
    "from arcgis.features import FeatureSet\n",
    "from datetime import datetime, timedelta\n",
    "from georapid.client import GeoRapidClient\n",
    "from georapid.factory import EnvironmentClientFactory\n",
    "from georapid.formats import OutFormat\n",
    "from georapid.protests import aggregate, articles, hotspots\n",
    "from georapid.conflicts import aggregate as aggregate_conflicts, cluster as cluster_conflicts, query as query_conflicts"
   ]
  },
  {
   "cell_type": "code",
   "execution_count": null,
   "metadata": {},
   "outputs": [],
   "source": [
    "help(EnvironmentClientFactory.create_client_with_host)"
   ]
  },
  {
   "cell_type": "code",
   "execution_count": null,
   "metadata": {},
   "outputs": [],
   "source": [
    "host = \"geoprotests.p.rapidapi.com\"\n",
    "client: GeoRapidClient = EnvironmentClientFactory.create_client_with_host(host)"
   ]
  },
  {
   "cell_type": "code",
   "execution_count": null,
   "metadata": {},
   "outputs": [],
   "source": [
    "help(aggregate)"
   ]
  },
  {
   "attachments": {},
   "cell_type": "markdown",
   "metadata": {},
   "source": [
    "## Connect to ArcGIS Online anonymously"
   ]
  },
  {
   "cell_type": "code",
   "execution_count": null,
   "metadata": {},
   "outputs": [],
   "source": [
    "gis = GIS()"
   ]
  },
  {
   "attachments": {},
   "cell_type": "markdown",
   "metadata": {},
   "source": [
    "## Use case: Visualize the news related to protests of 24th February 2022"
   ]
  },
  {
   "cell_type": "code",
   "execution_count": null,
   "metadata": {},
   "outputs": [],
   "source": [
    "date_of_interest = datetime(2022, 2, 24)\n",
    "\n",
    "world_map = gis.map()\n",
    "world_map.basemap = 'dark-gray-vector'\n",
    "\n",
    "protests_featureset = FeatureSet.from_dict(aggregate(client, date_of_interest, OutFormat.ESRI))\n",
    "if protests_featureset.sdf.empty:\n",
    "    print(\"The feature set is empty!\")\n",
    "else:\n",
    "    protests_featureset.sdf.spatial.plot(world_map,\n",
    "                                     renderer_type='c', # for class breaks renderer\n",
    "                                     method='esriClassifyNaturalBreaks', # classification algorithm\n",
    "                                     class_count=5, # choose the number of classes\n",
    "                                     col='count', # numeric column to classify\n",
    "                                     cmap='YlOrRd', # color map to pick colors from for each class\n",
    "                                     alpha=0.35 # specify opacity\n",
    "    )\n",
    "world_map"
   ]
  },
  {
   "attachments": {},
   "cell_type": "markdown",
   "metadata": {},
   "source": [
    "## Use Case: Visualize the hotspots related to protests of 24th February 2022"
   ]
  },
  {
   "cell_type": "code",
   "execution_count": null,
   "metadata": {},
   "outputs": [],
   "source": [
    "world_map = gis.map()\n",
    "world_map.basemap = 'dark-gray-vector'\n",
    "\n",
    "protests_featureset = FeatureSet.from_dict(hotspots(client, date_of_interest, OutFormat.ESRI))\n",
    "if protests_featureset.sdf.empty:\n",
    "    print(\"The feature set is empty!\")\n",
    "else:\n",
    "    protests_featureset.sdf.spatial.plot(world_map,\n",
    "                                     renderer_type='c', # for class breaks renderer\n",
    "                                     method='esriClassifyNaturalBreaks', # classification algorithm\n",
    "                                     class_count=5, # choose the number of classes\n",
    "                                     col='count', # numeric column to classify\n",
    "                                     cmap='YlOrRd', # color map to pick colors from for each class\n",
    "                                     alpha=0.35 # specify opacity\n",
    "    )\n",
    "world_map"
   ]
  },
  {
   "cell_type": "code",
   "execution_count": null,
   "metadata": {},
   "outputs": [],
   "source": [
    "protests_featureset.sdf"
   ]
  },
  {
   "attachments": {},
   "cell_type": "markdown",
   "metadata": {},
   "source": [
    "## Use Case: Visualize the armed conflicts of 24th February 2022"
   ]
  },
  {
   "cell_type": "code",
   "execution_count": null,
   "metadata": {},
   "outputs": [],
   "source": [
    "host = \"geoconflicts.p.rapidapi.com\"\n",
    "conflicts_client: GeoRapidClient = EnvironmentClientFactory.create_client_with_host(host)"
   ]
  },
  {
   "cell_type": "code",
   "execution_count": null,
   "metadata": {},
   "outputs": [],
   "source": [
    "date_of_interest = datetime(2022, 2, 24)\n",
    "\n",
    "world_map = gis.map()\n",
    "world_map.basemap = 'dark-gray-vector'\n",
    "\n",
    "conflicts_featureset = FeatureSet.from_dict(aggregate_conflicts(conflicts_client, date_of_interest, OutFormat.ESRI))\n",
    "if conflicts_featureset.sdf.empty:\n",
    "    print(\"The feature set is empty!\")\n",
    "else:\n",
    "    conflicts_featureset.sdf.spatial.plot(world_map,\n",
    "                                     renderer_type='c', # for class breaks renderer\n",
    "                                     method='esriClassifyNaturalBreaks', # classification algorithm\n",
    "                                     class_count=5, # choose the number of classes\n",
    "                                     col='count', # numeric column to classify\n",
    "                                     cmap='YlOrRd', # color map to pick colors from for each class\n",
    "                                     alpha=0.35 # specify opacity\n",
    "    )\n",
    "world_map"
   ]
  },
  {
   "cell_type": "code",
   "execution_count": null,
   "metadata": {},
   "outputs": [],
   "source": [
    "date_of_interest = datetime(2022, 2, 24)\n",
    "\n",
    "world_map = gis.map()\n",
    "world_map.basemap = 'dark-gray-vector'\n",
    "\n",
    "cluster_conflicts_featureset = FeatureSet.from_dict(cluster_conflicts(conflicts_client, date_of_interest, OutFormat.ESRI))\n",
    "if cluster_conflicts_featureset.sdf.empty:\n",
    "    print(\"The feature set is empty!\")\n",
    "else:\n",
    "    cluster_conflicts_featureset.sdf.spatial.plot(world_map,\n",
    "                                     renderer_type='c', # for class breaks renderer\n",
    "                                     method='esriClassifyNaturalBreaks', # classification algorithm\n",
    "                                     class_count=5, # choose the number of classes\n",
    "                                     col='events', # numeric column to classify\n",
    "                                     cmap='YlOrRd', # color map to pick colors from for each class\n",
    "                                     alpha=0.35 # specify opacity\n",
    "    )\n",
    "world_map"
   ]
  },
  {
   "cell_type": "code",
   "execution_count": null,
   "metadata": {},
   "outputs": [],
   "source": [
    "conflict_events_featureset = FeatureSet.from_dict(query_conflicts(conflicts_client, date_of_interest, OutFormat.ESRI))\n",
    "conflict_events_featureset.sdf.groupby('admin1')['location'].count().sort_values(ascending=False)"
   ]
  },
  {
   "attachments": {},
   "cell_type": "markdown",
   "metadata": {},
   "source": [
    "### Import the feature sets into ArcGIS Online"
   ]
  },
  {
   "cell_type": "code",
   "execution_count": null,
   "metadata": {},
   "outputs": [],
   "source": [
    "from getpass import getpass\n",
    "username = getpass('Username')\n",
    "gis_admin = GIS(username=username)"
   ]
  },
  {
   "cell_type": "code",
   "execution_count": null,
   "metadata": {},
   "outputs": [],
   "source": [
    "out_folder = ''\n",
    "gis_admin.content.import_data(conflicts_featureset, title='Conflict Events Aggregated', folder=out_folder)"
   ]
  },
  {
   "cell_type": "code",
   "execution_count": null,
   "metadata": {},
   "outputs": [],
   "source": [
    "gis_admin.content.import_data(cluster_conflicts_featureset, title='Conflict Events Clustered', folder=out_folder)"
   ]
  },
  {
   "cell_type": "code",
   "execution_count": null,
   "metadata": {},
   "outputs": [],
   "source": [
    "gis_admin.content.import_data(conflict_events_featureset, title='Conflict Events', folder=out_folder)"
   ]
  },
  {
   "cell_type": "code",
   "execution_count": null,
   "metadata": {},
   "outputs": [],
   "source": []
  }
 ],
 "metadata": {
  "kernelspec": {
   "display_name": "Python 3 (ipykernel)",
   "language": "python",
   "name": "python3"
  },
  "language_info": {
   "codemirror_mode": {
    "name": "ipython",
    "version": 3
   },
   "file_extension": ".py",
   "mimetype": "text/x-python",
   "name": "python",
   "nbconvert_exporter": "python",
   "pygments_lexer": "ipython3",
   "version": "3.9.15"
  },
  "vscode": {
   "interpreter": {
    "hash": "2d0fdfb3158d33433b04d4d052bc64c5ba1114abb704175f363b42b7dc56f274"
   }
  }
 },
 "nbformat": 4,
 "nbformat_minor": 4
}
