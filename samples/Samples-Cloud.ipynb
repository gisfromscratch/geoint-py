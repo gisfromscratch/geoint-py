{
 "cells": [
  {
   "cell_type": "markdown",
   "metadata": {},
   "source": [
    "# Visualize and analyze the geospatial features of protests/demonstrations using the geoprotest API hosted on Rapid API"
   ]
  },
  {
   "cell_type": "markdown",
   "metadata": {},
   "source": [
    "* You need a valid Rapid API account\n",
    "* The system environment must contain your Rapid API key ('x_rapidapi_key') and is send as a http header parameter."
   ]
  },
  {
   "cell_type": "code",
   "execution_count": 12,
   "metadata": {},
   "outputs": [],
   "source": [
    "from arcgis import GIS\n",
    "from arcgis.features import FeatureSet\n",
    "from datetime import datetime, timedelta\n",
    "from georapid.client import GeoRapidClient\n",
    "from georapid.factory import EnvironmentClientFactory\n",
    "from georapid.formats import OutFormat\n",
    "from georapid.protests import aggregate, articles, hotspots"
   ]
  },
  {
   "cell_type": "code",
   "execution_count": 8,
   "metadata": {},
   "outputs": [
    {
     "name": "stdout",
     "output_type": "stream",
     "text": [
      "Help on function create_client_with_host in module georapid.factory:\n",
      "\n",
      "create_client_with_host(host)\n",
      "    Creates a new client using 'x_rapidapi_key' enironment variable.\n",
      "    Raises a ValueError when this variable is not defined!\n",
      "\n"
     ]
    }
   ],
   "source": [
    "help(EnvironmentClientFactory.create_client_with_host)"
   ]
  },
  {
   "cell_type": "code",
   "execution_count": 9,
   "metadata": {},
   "outputs": [],
   "source": [
    "host = \"geoprotests.p.rapidapi.com\"\n",
    "client: GeoRapidClient = EnvironmentClientFactory.create_client_with_host(host)"
   ]
  },
  {
   "cell_type": "code",
   "execution_count": 10,
   "metadata": {},
   "outputs": [
    {
     "name": "stdout",
     "output_type": "stream",
     "text": [
      "Help on function aggregate in module georapid.protests:\n",
      "\n",
      "aggregate(client: georapid.client.GeoRapidClient, date: datetime.datetime = None, format=<OutFormat.GEOJSON: 1>)\n",
      "    Aggregates the broadcasted news related to protests/demonstrations using a spatial grid and returns the features as hexagonal bins.\n",
      "    The date is optional. When not specified, we return the features of the last 24 hours.\n",
      "    The underlying hosted feature service saves the last 90 days and yesterday should be the latest available date.\n",
      "    The format can be GeoJSON or Esri JSON.\n",
      "\n"
     ]
    }
   ],
   "source": [
    "help(aggregate)"
   ]
  },
  {
   "cell_type": "markdown",
   "metadata": {},
   "source": [
    "## Connect to ArcGIS Online anonymously"
   ]
  },
  {
   "cell_type": "code",
   "execution_count": 5,
   "metadata": {},
   "outputs": [],
   "source": [
    "gis = GIS()"
   ]
  },
  {
   "cell_type": "markdown",
   "metadata": {},
   "source": [
    "## Use case: Visualize the news related to protests of 24th February 2022"
   ]
  },
  {
   "cell_type": "code",
   "execution_count": 13,
   "metadata": {},
   "outputs": [
    {
     "data": {
      "application/vnd.jupyter.widget-view+json": {
       "model_id": "1f78a29834994540bd9ca7540f711dcf",
       "version_major": 2,
       "version_minor": 0
      },
      "text/plain": [
       "MapView(layout=Layout(height='400px', width='100%'))"
      ]
     },
     "metadata": {},
     "output_type": "display_data"
    },
    {
     "data": {
      "text/html": [
       "<div class=\"map-static-img-preview-9cc8c005-cdbe-41b4-99cc-cf078bc80fa5\"><img src=\"\"></img></div>"
      ],
      "text/plain": [
       "<IPython.core.display.HTML object>"
      ]
     },
     "metadata": {},
     "output_type": "display_data"
    },
    {
     "data": {
      "text/html": [
       "<div class=\"map-html-embed-preview-9cc8c005-cdbe-41b4-99cc-cf078bc80fa5\"></div>"
      ],
      "text/plain": [
       "<IPython.core.display.HTML object>"
      ]
     },
     "metadata": {},
     "output_type": "display_data"
    }
   ],
   "source": [
    "date_of_interest = datetime(2022, 2, 24)\n",
    "\n",
    "world_map = gis.map()\n",
    "world_map.basemap = 'dark-gray-vector'\n",
    "\n",
    "protests_featureset = FeatureSet.from_dict(aggregate(client, date_of_interest, OutFormat.ESRI))\n",
    "if protests_featureset.sdf.empty:\n",
    "    print(\"The feature set is empty!\")\n",
    "else:\n",
    "    protests_featureset.sdf.spatial.plot(world_map,\n",
    "                                     renderer_type='c', # for class breaks renderer\n",
    "                                     method='esriClassifyNaturalBreaks', # classification algorithm\n",
    "                                     class_count=5, # choose the number of classes\n",
    "                                     col='count', # numeric column to classify\n",
    "                                     cmap='YlOrRd', # color map to pick colors from for each class\n",
    "                                     alpha=0.35 # specify opacity\n",
    "    )\n",
    "world_map"
   ]
  },
  {
   "cell_type": "markdown",
   "metadata": {},
   "source": [
    "## Use Case: Visualize the hotspots related to protests of 24th February 2022"
   ]
  },
  {
   "cell_type": "code",
   "execution_count": 14,
   "metadata": {},
   "outputs": [
    {
     "data": {
      "application/vnd.jupyter.widget-view+json": {
       "model_id": "6ae5b68b2f074588b4c770267679c233",
       "version_major": 2,
       "version_minor": 0
      },
      "text/plain": [
       "MapView(layout=Layout(height='400px', width='100%'))"
      ]
     },
     "metadata": {},
     "output_type": "display_data"
    },
    {
     "data": {
      "text/html": [
       "<div class=\"map-static-img-preview-5b539296-a029-4a94-bae3-697ebe1cc7ad\"><img src=\"\"></img></div>"
      ],
      "text/plain": [
       "<IPython.core.display.HTML object>"
      ]
     },
     "metadata": {},
     "output_type": "display_data"
    },
    {
     "data": {
      "text/html": [
       "<div class=\"map-html-embed-preview-5b539296-a029-4a94-bae3-697ebe1cc7ad\"></div>"
      ],
      "text/plain": [
       "<IPython.core.display.HTML object>"
      ]
     },
     "metadata": {},
     "output_type": "display_data"
    }
   ],
   "source": [
    "world_map = gis.map()\n",
    "world_map.basemap = 'dark-gray-vector'\n",
    "\n",
    "protests_featureset = FeatureSet.from_dict(hotspots(client, date_of_interest, OutFormat.ESRI))\n",
    "if protests_featureset.sdf.empty:\n",
    "    print(\"The feature set is empty!\")\n",
    "else:\n",
    "    protests_featureset.sdf.spatial.plot(world_map,\n",
    "                                     renderer_type='c', # for class breaks renderer\n",
    "                                     method='esriClassifyNaturalBreaks', # classification algorithm\n",
    "                                     class_count=5, # choose the number of classes\n",
    "                                     col='count', # numeric column to classify\n",
    "                                     cmap='YlOrRd', # color map to pick colors from for each class\n",
    "                                     alpha=0.35 # specify opacity\n",
    "    )\n",
    "world_map"
   ]
  },
  {
   "cell_type": "code",
   "execution_count": 15,
   "metadata": {},
   "outputs": [
    {
     "data": {
      "text/html": [
       "<div>\n",
       "<style scoped>\n",
       "    .dataframe tbody tr th:only-of-type {\n",
       "        vertical-align: middle;\n",
       "    }\n",
       "\n",
       "    .dataframe tbody tr th {\n",
       "        vertical-align: top;\n",
       "    }\n",
       "\n",
       "    .dataframe thead th {\n",
       "        text-align: right;\n",
       "    }\n",
       "</style>\n",
       "<table border=\"1\" class=\"dataframe\">\n",
       "  <thead>\n",
       "    <tr style=\"text-align: right;\">\n",
       "      <th></th>\n",
       "      <th>OBJECTID</th>\n",
       "      <th>name</th>\n",
       "      <th>timestamp</th>\n",
       "      <th>count</th>\n",
       "      <th>SHAPE</th>\n",
       "    </tr>\n",
       "  </thead>\n",
       "  <tbody>\n",
       "    <tr>\n",
       "      <th>0</th>\n",
       "      <td>11457</td>\n",
       "      <td>Moscow, Moskva, Russia</td>\n",
       "      <td>2022-02-24</td>\n",
       "      <td>544</td>\n",
       "      <td>{\"x\": 37.6156, \"y\": 55.7522, \"spatialReference...</td>\n",
       "    </tr>\n",
       "    <tr>\n",
       "      <th>1</th>\n",
       "      <td>11458</td>\n",
       "      <td>Ottawa, Ontario, Canada</td>\n",
       "      <td>2022-02-24</td>\n",
       "      <td>172</td>\n",
       "      <td>{\"x\": -75.7, \"y\": 45.4167, \"spatialReference\":...</td>\n",
       "    </tr>\n",
       "    <tr>\n",
       "      <th>2</th>\n",
       "      <td>11459</td>\n",
       "      <td>Saint Petersburg, Sankt-Peterburg, Russia</td>\n",
       "      <td>2022-02-24</td>\n",
       "      <td>161</td>\n",
       "      <td>{\"x\": 30.2642, \"y\": 59.8944, \"spatialReference...</td>\n",
       "    </tr>\n",
       "    <tr>\n",
       "      <th>3</th>\n",
       "      <td>11460</td>\n",
       "      <td>Berlin, Berlin, Germany</td>\n",
       "      <td>2022-02-24</td>\n",
       "      <td>125</td>\n",
       "      <td>{\"x\": 13.4, \"y\": 52.5167, \"spatialReference\": ...</td>\n",
       "    </tr>\n",
       "    <tr>\n",
       "      <th>4</th>\n",
       "      <td>11461</td>\n",
       "      <td>Washington, Washington, United States</td>\n",
       "      <td>2022-02-24</td>\n",
       "      <td>75</td>\n",
       "      <td>{\"x\": -77.0364, \"y\": 38.8951, \"spatialReferenc...</td>\n",
       "    </tr>\n",
       "    <tr>\n",
       "      <th>5</th>\n",
       "      <td>11462</td>\n",
       "      <td>London, London, City Of, United Kingdom</td>\n",
       "      <td>2022-02-24</td>\n",
       "      <td>61</td>\n",
       "      <td>{\"x\": -0.1167, \"y\": 51.5, \"spatialReference\": ...</td>\n",
       "    </tr>\n",
       "    <tr>\n",
       "      <th>6</th>\n",
       "      <td>11463</td>\n",
       "      <td>Warsaw, (Pl67), Poland</td>\n",
       "      <td>2022-02-24</td>\n",
       "      <td>57</td>\n",
       "      <td>{\"x\": 21, \"y\": 52.25, \"spatialReference\": {\"wk...</td>\n",
       "    </tr>\n",
       "  </tbody>\n",
       "</table>\n",
       "</div>"
      ],
      "text/plain": [
       "   OBJECTID                                       name  timestamp  count  \\\n",
       "0     11457                     Moscow, Moskva, Russia 2022-02-24    544   \n",
       "1     11458                    Ottawa, Ontario, Canada 2022-02-24    172   \n",
       "2     11459  Saint Petersburg, Sankt-Peterburg, Russia 2022-02-24    161   \n",
       "3     11460                    Berlin, Berlin, Germany 2022-02-24    125   \n",
       "4     11461      Washington, Washington, United States 2022-02-24     75   \n",
       "5     11462    London, London, City Of, United Kingdom 2022-02-24     61   \n",
       "6     11463                     Warsaw, (Pl67), Poland 2022-02-24     57   \n",
       "\n",
       "                                               SHAPE  \n",
       "0  {\"x\": 37.6156, \"y\": 55.7522, \"spatialReference...  \n",
       "1  {\"x\": -75.7, \"y\": 45.4167, \"spatialReference\":...  \n",
       "2  {\"x\": 30.2642, \"y\": 59.8944, \"spatialReference...  \n",
       "3  {\"x\": 13.4, \"y\": 52.5167, \"spatialReference\": ...  \n",
       "4  {\"x\": -77.0364, \"y\": 38.8951, \"spatialReferenc...  \n",
       "5  {\"x\": -0.1167, \"y\": 51.5, \"spatialReference\": ...  \n",
       "6  {\"x\": 21, \"y\": 52.25, \"spatialReference\": {\"wk...  "
      ]
     },
     "execution_count": 15,
     "metadata": {},
     "output_type": "execute_result"
    }
   ],
   "source": [
    "protests_featureset.sdf"
   ]
  },
  {
   "cell_type": "code",
   "execution_count": null,
   "metadata": {},
   "outputs": [],
   "source": []
  }
 ],
 "metadata": {
  "kernelspec": {
   "display_name": "Python 3 (ipykernel)",
   "language": "python",
   "name": "python3"
  },
  "language_info": {
   "codemirror_mode": {
    "name": "ipython",
    "version": 3
   },
   "file_extension": ".py",
   "mimetype": "text/x-python",
   "name": "python",
   "nbconvert_exporter": "python",
   "pygments_lexer": "ipython3",
   "version": "3.9.15"
  },
  "vscode": {
   "interpreter": {
    "hash": "2d0fdfb3158d33433b04d4d052bc64c5ba1114abb704175f363b42b7dc56f274"
   }
  }
 },
 "nbformat": 4,
 "nbformat_minor": 4
}
