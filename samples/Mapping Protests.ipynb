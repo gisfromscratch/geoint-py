{
 "cells": [
  {
   "cell_type": "markdown",
   "id": "09ffe319",
   "metadata": {},
   "source": [
    "# Mapping broadcasted news related to protests"
   ]
  },
  {
   "cell_type": "code",
   "execution_count": null,
   "id": "1e8b66eb",
   "metadata": {},
   "outputs": [],
   "source": [
    "# author: Jan Tschada\n",
    "# SPDX-License-Identifer: Apache-2.0"
   ]
  },
  {
   "cell_type": "code",
   "execution_count": null,
   "id": "78af308d",
   "metadata": {},
   "outputs": [],
   "source": [
    "from arcgis import GIS\n",
    "from arcgis.features import FeatureSet\n",
    "from datetime import datetime, timedelta\n",
    "from georapid.client import GeoRapidClient\n",
    "from georapid.factory import EnvironmentClientFactory\n",
    "from georapid.formats import OutFormat\n",
    "from georapid.protests import aggregate, articles, hotspots"
   ]
  },
  {
   "cell_type": "markdown",
   "id": "1ed16500",
   "metadata": {},
   "source": [
    "## Create a client instance"
   ]
  },
  {
   "cell_type": "code",
   "execution_count": null,
   "id": "eb992186",
   "metadata": {},
   "outputs": [],
   "source": [
    "host = \"geoprotests.p.rapidapi.com\"\n",
    "client: GeoRapidClient = EnvironmentClientFactory.create_client_with_host(host)"
   ]
  },
  {
   "cell_type": "markdown",
   "id": "18f72fff",
   "metadata": {},
   "source": [
    "## Connect to ArcGIS Online anonymously"
   ]
  },
  {
   "cell_type": "code",
   "execution_count": null,
   "id": "537928c6",
   "metadata": {},
   "outputs": [],
   "source": [
    "gis = GIS()"
   ]
  },
  {
   "cell_type": "markdown",
   "id": "4a6a3fb4",
   "metadata": {},
   "source": [
    "## Define some utility functions\n",
    "We need to plot hotspot locations and aggregated polygons."
   ]
  },
  {
   "cell_type": "code",
   "execution_count": null,
   "id": "bb2e8805",
   "metadata": {},
   "outputs": [],
   "source": [
    "def plot_aggregated(map_view, spatial_df, column='count'):\n",
    "    \"\"\"\n",
    "    Plots the spatial dataframe as classified polygons using the specified map view.\n",
    "    \"\"\"\n",
    "    if spatial_df.empty:\n",
    "        print(\"The dataframe is empty!\")\n",
    "    else:\n",
    "        spatial_df.spatial.plot(map_view,\n",
    "                                renderer_type='c', # for class breaks renderer\n",
    "                                method='esriClassifyNaturalBreaks', # classification algorithm\n",
    "                                class_count=5, # choose the number of classes\n",
    "                                col=column, # numeric column to classify\n",
    "                                cmap='YlOrRd', # color map to pick colors from for each class\n",
    "                                alpha=0.35 # specify opacity\n",
    "        )\n",
    "        \n",
    "def plot_hotspots(map_view, spatial_df):\n",
    "    \"\"\"\n",
    "    Plots the spatial dataframe as red locations using the specified map view.\n",
    "    \"\"\"\n",
    "    if spatial_df.empty:\n",
    "        print(\"The dataframe is empty!\")\n",
    "    else:\n",
    "        spatial_df.spatial.plot(map_view,\n",
    "                                renderer_type='s', # for simple renderer\n",
    "                                symbol_style='o', # symbol style circle\n",
    "                                colors='Reds_r', # colors red\n",
    "                                alpha=0.35 # specify opacity\n",
    "        )"
   ]
  },
  {
   "cell_type": "markdown",
   "id": "8e09c2eb",
   "metadata": {},
   "source": [
    "### Visualize the news related to protests from yesterday"
   ]
  },
  {
   "cell_type": "code",
   "execution_count": null,
   "id": "594fd3c2",
   "metadata": {},
   "outputs": [],
   "source": [
    "world_map = gis.map()\n",
    "world_map.basemap = 'dark-gray-vector'\n",
    "\n",
    "protests_featureset = FeatureSet.from_dict(aggregate(client, format=OutFormat.ESRI))\n",
    "plot_aggregated(world_map, protests_featureset.sdf)\n",
    "world_map"
   ]
  },
  {
   "cell_type": "markdown",
   "id": "9d75aab6",
   "metadata": {},
   "source": [
    "### Visualize the news hotspots related to protests from yesterday\n",
    "The map stays empty if no specific location were mentioned many times in news related to protests, yesterday."
   ]
  },
  {
   "cell_type": "code",
   "execution_count": null,
   "id": "4c2b75fc",
   "metadata": {},
   "outputs": [],
   "source": [
    "world_map = gis.map()\n",
    "world_map.basemap = 'dark-gray-vector'\n",
    "\n",
    "hotspots_featureset = FeatureSet.from_dict(hotspots(client, format=OutFormat.ESRI))\n",
    "plot_hotspots(world_map, hotspots_featureset.sdf)\n",
    "world_map"
   ]
  },
  {
   "cell_type": "markdown",
   "id": "b34caf30",
   "metadata": {},
   "source": [
    "### Visualize the news related to protests of 24th February 2022"
   ]
  },
  {
   "cell_type": "code",
   "execution_count": null,
   "id": "ca31e0ea",
   "metadata": {},
   "outputs": [],
   "source": [
    "date_of_interest = datetime(2022, 2, 24)\n",
    "\n",
    "world_map = gis.map()\n",
    "world_map.basemap = 'dark-gray-vector'\n",
    "\n",
    "protests_featureset = FeatureSet.from_dict(aggregate(client, date_of_interest, OutFormat.ESRI))\n",
    "plot_aggregated(world_map, protests_featureset.sdf)\n",
    "world_map"
   ]
  },
  {
   "cell_type": "code",
   "execution_count": null,
   "id": "f1e87e0c",
   "metadata": {},
   "outputs": [],
   "source": []
  }
 ],
 "metadata": {
  "kernelspec": {
   "display_name": "Python 3 (ipykernel)",
   "language": "python",
   "name": "python3"
  },
  "language_info": {
   "codemirror_mode": {
    "name": "ipython",
    "version": 3
   },
   "file_extension": ".py",
   "mimetype": "text/x-python",
   "name": "python",
   "nbconvert_exporter": "python",
   "pygments_lexer": "ipython3",
   "version": "3.9.15"
  }
 },
 "nbformat": 4,
 "nbformat_minor": 5
}
