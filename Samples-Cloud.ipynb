{
 "cells": [
  {
   "cell_type": "markdown",
   "metadata": {},
   "source": [
    "# Visualize and analyze the geospatial features of protests/demonstrations using the geoprotest API hosted on Rapid API"
   ]
  },
  {
   "cell_type": "markdown",
   "metadata": {},
   "source": [
    "* You need a valid Rapid API account\n",
    "* The system environment must contain the Rapid API url ('x_rapidapi_url'), host ('x_rapidapi_host') and your key ('x_rapidapi_key') these are send as http headers"
   ]
  },
  {
   "cell_type": "code",
   "execution_count": 1,
   "metadata": {},
   "outputs": [],
   "source": [
    "import arcgis\n",
    "from datetime import datetime, timedelta\n",
    "from geoint.cloud import protests_aggregate_as_featureset, protests_articles, protests_hotspots_as_featureset"
   ]
  },
  {
   "cell_type": "code",
   "execution_count": 2,
   "metadata": {},
   "outputs": [
    {
     "name": "stdout",
     "output_type": "stream",
     "text": [
      "Help on function protests_aggregate_as_featureset in module geoint.cloud:\n",
      "\n",
      "protests_aggregate_as_featureset(date=None)\n",
      "    Aggregates the broadcasted news related to protests/demonstrations using a spatial grid and returns a Esri FeatureSet containing the features as hexagonal bins.\n",
      "    The date is optional. When not specified, we return the features of the last 24 hours.\n",
      "    The underlying hosted feature service saves the last 90 days and yesterday should be the latest available date.\n",
      "\n"
     ]
    }
   ],
   "source": [
    "help(protests_aggregate_as_featureset)"
   ]
  },
  {
   "cell_type": "markdown",
   "metadata": {},
   "source": [
    "## Connect to ArcGIS Online anonymously"
   ]
  },
  {
   "cell_type": "code",
   "execution_count": 3,
   "metadata": {},
   "outputs": [],
   "source": [
    "gis = arcgis.GIS()"
   ]
  },
  {
   "cell_type": "markdown",
   "metadata": {},
   "source": [
    "## Use case: Visualize the news related to protests from yesterday"
   ]
  },
  {
   "cell_type": "code",
   "execution_count": 4,
   "metadata": {},
   "outputs": [
    {
     "data": {
      "application/vnd.jupyter.widget-view+json": {
       "model_id": "6792408a45be4dee95ff4eaa9b025380",
       "version_major": 2,
       "version_minor": 0
      },
      "text/plain": [
       "MapView(layout=Layout(height='400px', width='100%'))"
      ]
     },
     "metadata": {},
     "output_type": "display_data"
    },
    {
     "data": {
      "text/html": [
       "<div class=\"map-static-img-preview-862c8ad3-da7b-494a-94e6-072906a898f5\"><img src=\"\"></img></div>"
      ],
      "text/plain": [
       "<IPython.core.display.HTML object>"
      ]
     },
     "metadata": {},
     "output_type": "display_data"
    },
    {
     "data": {
      "text/html": [
       "<div class=\"map-html-embed-preview-862c8ad3-da7b-494a-94e6-072906a898f5\"></div>"
      ],
      "text/plain": [
       "<IPython.core.display.HTML object>"
      ]
     },
     "metadata": {},
     "output_type": "display_data"
    }
   ],
   "source": [
    "yesterday = datetime.utcnow() - timedelta(days=1)\n",
    "\n",
    "world_map = gis.map()\n",
    "world_map.basemap = 'dark-gray-vector'\n",
    "\n",
    "protests_featureset = protests_aggregate_as_featureset(yesterday)\n",
    "protests_featureset.sdf.spatial.plot(world_map,\n",
    "                                     renderer_type='c', # for class breaks renderer\n",
    "                                     method='esriClassifyNaturalBreaks', # classification algorithm\n",
    "                                     class_count=5, # choose the number of classes\n",
    "                                     col='count', # numeric column to classify\n",
    "                                     cmap='YlOrRd', # color map to pick colors from for each class\n",
    "                                     alpha=0.35 # specify opacity\n",
    ")\n",
    "world_map"
   ]
  },
  {
   "cell_type": "markdown",
   "metadata": {},
   "source": [
    "## Use Case: Visualize the hotspots related to protests from yesterday"
   ]
  },
  {
   "cell_type": "code",
   "execution_count": 5,
   "metadata": {},
   "outputs": [
    {
     "data": {
      "application/vnd.jupyter.widget-view+json": {
       "model_id": "ceb22225173b4d9686988ebe15663adc",
       "version_major": 2,
       "version_minor": 0
      },
      "text/plain": [
       "MapView(layout=Layout(height='400px', width='100%'))"
      ]
     },
     "metadata": {},
     "output_type": "display_data"
    },
    {
     "data": {
      "text/html": [
       "<div class=\"map-static-img-preview-4cc5490f-5724-402f-bd6b-f0f893078f42\"><img src=\"\"></img></div>"
      ],
      "text/plain": [
       "<IPython.core.display.HTML object>"
      ]
     },
     "metadata": {},
     "output_type": "display_data"
    },
    {
     "data": {
      "text/html": [
       "<div class=\"map-html-embed-preview-4cc5490f-5724-402f-bd6b-f0f893078f42\"></div>"
      ],
      "text/plain": [
       "<IPython.core.display.HTML object>"
      ]
     },
     "metadata": {},
     "output_type": "display_data"
    }
   ],
   "source": [
    "world_map = gis.map()\n",
    "world_map.basemap = 'dark-gray-vector'\n",
    "\n",
    "protests_featureset = protests_hotspots_as_featureset(yesterday)\n",
    "protests_featureset.sdf.spatial.plot(world_map,\n",
    "                                     renderer_type='c', # for class breaks renderer\n",
    "                                     method='esriClassifyNaturalBreaks', # classification algorithm\n",
    "                                     class_count=5, # choose the number of classes\n",
    "                                     col='count', # numeric column to classify\n",
    "                                     cmap='YlOrRd', # color map to pick colors from for each class\n",
    "                                     alpha=0.35 # specify opacity\n",
    ")\n",
    "world_map"
   ]
  },
  {
   "cell_type": "code",
   "execution_count": 6,
   "metadata": {},
   "outputs": [
    {
     "data": {
      "text/html": [
       "<div>\n",
       "<style scoped>\n",
       "    .dataframe tbody tr th:only-of-type {\n",
       "        vertical-align: middle;\n",
       "    }\n",
       "\n",
       "    .dataframe tbody tr th {\n",
       "        vertical-align: top;\n",
       "    }\n",
       "\n",
       "    .dataframe thead th {\n",
       "        text-align: right;\n",
       "    }\n",
       "</style>\n",
       "<table border=\"1\" class=\"dataframe\">\n",
       "  <thead>\n",
       "    <tr style=\"text-align: right;\">\n",
       "      <th></th>\n",
       "      <th>OBJECTID</th>\n",
       "      <th>name</th>\n",
       "      <th>timestamp</th>\n",
       "      <th>count</th>\n",
       "      <th>SHAPE</th>\n",
       "    </tr>\n",
       "  </thead>\n",
       "  <tbody>\n",
       "    <tr>\n",
       "      <th>0</th>\n",
       "      <td>6177</td>\n",
       "      <td>Almaty, Almaty Qalasy, Kazakhstan</td>\n",
       "      <td>2022-01-09</td>\n",
       "      <td>929</td>\n",
       "      <td>{\"x\": 76.95, \"y\": 43.25, \"spatialReference\": {...</td>\n",
       "    </tr>\n",
       "    <tr>\n",
       "      <th>1</th>\n",
       "      <td>6178</td>\n",
       "      <td>Washington, Washington, United States</td>\n",
       "      <td>2022-01-09</td>\n",
       "      <td>126</td>\n",
       "      <td>{\"x\": -77.0364, \"y\": 38.8951, \"spatialReferenc...</td>\n",
       "    </tr>\n",
       "    <tr>\n",
       "      <th>2</th>\n",
       "      <td>6179</td>\n",
       "      <td>Khartoum, Al Khartum, Sudan</td>\n",
       "      <td>2022-01-09</td>\n",
       "      <td>119</td>\n",
       "      <td>{\"x\": 32.5342, \"y\": 15.5881, \"spatialReference...</td>\n",
       "    </tr>\n",
       "    <tr>\n",
       "      <th>3</th>\n",
       "      <td>6180</td>\n",
       "      <td>Brussels, Bruxelles-Capitale, Belgium</td>\n",
       "      <td>2022-01-09</td>\n",
       "      <td>82</td>\n",
       "      <td>{\"x\": 4.3333, \"y\": 50.8333, \"spatialReference\"...</td>\n",
       "    </tr>\n",
       "    <tr>\n",
       "      <th>4</th>\n",
       "      <td>6181</td>\n",
       "      <td>Paris, France (General), France</td>\n",
       "      <td>2022-01-09</td>\n",
       "      <td>81</td>\n",
       "      <td>{\"x\": 2.3333, \"y\": 48.8667, \"spatialReference\"...</td>\n",
       "    </tr>\n",
       "    <tr>\n",
       "      <th>5</th>\n",
       "      <td>6182</td>\n",
       "      <td>Tahrir, Maysan, Iraq</td>\n",
       "      <td>2022-01-09</td>\n",
       "      <td>59</td>\n",
       "      <td>{\"x\": 47.3, \"y\": 31.75, \"spatialReference\": {\"...</td>\n",
       "    </tr>\n",
       "  </tbody>\n",
       "</table>\n",
       "</div>"
      ],
      "text/plain": [
       "   OBJECTID                                   name  timestamp  count  \\\n",
       "0      6177      Almaty, Almaty Qalasy, Kazakhstan 2022-01-09    929   \n",
       "1      6178  Washington, Washington, United States 2022-01-09    126   \n",
       "2      6179            Khartoum, Al Khartum, Sudan 2022-01-09    119   \n",
       "3      6180  Brussels, Bruxelles-Capitale, Belgium 2022-01-09     82   \n",
       "4      6181        Paris, France (General), France 2022-01-09     81   \n",
       "5      6182                   Tahrir, Maysan, Iraq 2022-01-09     59   \n",
       "\n",
       "                                               SHAPE  \n",
       "0  {\"x\": 76.95, \"y\": 43.25, \"spatialReference\": {...  \n",
       "1  {\"x\": -77.0364, \"y\": 38.8951, \"spatialReferenc...  \n",
       "2  {\"x\": 32.5342, \"y\": 15.5881, \"spatialReference...  \n",
       "3  {\"x\": 4.3333, \"y\": 50.8333, \"spatialReference\"...  \n",
       "4  {\"x\": 2.3333, \"y\": 48.8667, \"spatialReference\"...  \n",
       "5  {\"x\": 47.3, \"y\": 31.75, \"spatialReference\": {\"...  "
      ]
     },
     "execution_count": 6,
     "metadata": {},
     "output_type": "execute_result"
    }
   ],
   "source": [
    "protests_featureset.sdf"
   ]
  },
  {
   "cell_type": "code",
   "execution_count": null,
   "metadata": {},
   "outputs": [],
   "source": []
  }
 ],
 "metadata": {
  "kernelspec": {
   "display_name": "Python 3",
   "language": "python",
   "name": "python3"
  },
  "language_info": {
   "codemirror_mode": {
    "name": "ipython",
    "version": 3
   },
   "file_extension": ".py",
   "mimetype": "text/x-python",
   "name": "python",
   "nbconvert_exporter": "python",
   "pygments_lexer": "ipython3",
   "version": "3.8.2"
  }
 },
 "nbformat": 4,
 "nbformat_minor": 4
}
