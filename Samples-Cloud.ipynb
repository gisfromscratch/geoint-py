{
 "cells": [
  {
   "cell_type": "markdown",
   "metadata": {},
   "source": [
    "# Visualize and analyze the geospatial features of protests/demonstrations using the geoprotest API hosted on Rapid API"
   ]
  },
  {
   "cell_type": "markdown",
   "metadata": {},
   "source": [
    "* You need a valid Rapid API account\n",
    "* The system environment must contain the Rapid API url ('x_rapidapi_url'), host ('x_rapidapi_host') and your key ('x_rapidapi_key') these are send as http headers"
   ]
  },
  {
   "cell_type": "code",
   "execution_count": 1,
   "metadata": {},
   "outputs": [],
   "source": [
    "import arcgis\n",
    "from datetime import datetime, timedelta\n",
    "from geoint.cloud import protests_aggregate_as_featureset, protests_articles, protests_hotspots_as_featureset"
   ]
  },
  {
   "cell_type": "code",
   "execution_count": 2,
   "metadata": {},
   "outputs": [
    {
     "name": "stdout",
     "output_type": "stream",
     "text": [
      "Help on function protests_aggregate_as_featureset in module geoint.cloud:\n",
      "\n",
      "protests_aggregate_as_featureset(date=None)\n",
      "    Aggregates the broadcasted news related to protests/demonstrations using a spatial grid and returns a Esri FeatureSet containing the features as hexagonal bins.\n",
      "    The date is optional. When not specified, we return the features of the last 24 hours.\n",
      "    The underlying hosted feature service saves the last 90 days and yesterday should be the latest available date.\n",
      "\n"
     ]
    }
   ],
   "source": [
    "help(protests_aggregate_as_featureset)"
   ]
  },
  {
   "cell_type": "markdown",
   "metadata": {},
   "source": [
    "## Connect to ArcGIS Online anonymously"
   ]
  },
  {
   "cell_type": "code",
   "execution_count": 3,
   "metadata": {},
   "outputs": [],
   "source": [
    "gis = arcgis.GIS()"
   ]
  },
  {
   "cell_type": "markdown",
   "metadata": {},
   "source": [
    "## Use case: Visualize the news related to protests from yesterday"
   ]
  },
  {
   "cell_type": "code",
   "execution_count": 4,
   "metadata": {},
   "outputs": [
    {
     "data": {
      "application/vnd.jupyter.widget-view+json": {
       "model_id": "84b9ae4cede845a1a9d6c807f94ba187",
       "version_major": 2,
       "version_minor": 0
      },
      "text/plain": [
       "MapView(layout=Layout(height='400px', width='100%'))"
      ]
     },
     "metadata": {},
     "output_type": "display_data"
    },
    {
     "data": {
      "text/html": [
       "<div class=\"map-static-img-preview-a70bb5af-29a5-4cf7-a561-0d676a8aa904\"><img src=\"\"></img></div>"
      ],
      "text/plain": [
       "<IPython.core.display.HTML object>"
      ]
     },
     "metadata": {},
     "output_type": "display_data"
    },
    {
     "data": {
      "text/html": [
       "<div class=\"map-html-embed-preview-a70bb5af-29a5-4cf7-a561-0d676a8aa904\"></div>"
      ],
      "text/plain": [
       "<IPython.core.display.HTML object>"
      ]
     },
     "metadata": {},
     "output_type": "display_data"
    }
   ],
   "source": [
    "yesterday = datetime.utcnow() - timedelta(days=1)\n",
    "\n",
    "world_map = gis.map()\n",
    "world_map.basemap = 'dark-gray-vector'\n",
    "\n",
    "protests_featureset = protests_aggregate_as_featureset(yesterday)\n",
    "protests_featureset.sdf.spatial.plot(world_map,\n",
    "                                     renderer_type='c', # for class breaks renderer\n",
    "                                     method='esriClassifyNaturalBreaks', # classification algorithm\n",
    "                                     class_count=5, # choose the number of classes\n",
    "                                     col='count', # numeric column to classify\n",
    "                                     cmap='coolwarm', # color map to pick colors from for each class\n",
    "                                     alpha=0.35 # specify opacity\n",
    ")\n",
    "world_map"
   ]
  },
  {
   "cell_type": "markdown",
   "metadata": {},
   "source": [
    "## Use Case: Visualize the hotspots related to protests from yesterday"
   ]
  },
  {
   "cell_type": "code",
   "execution_count": 5,
   "metadata": {},
   "outputs": [
    {
     "data": {
      "application/vnd.jupyter.widget-view+json": {
       "model_id": "136f3c315ba544ae821b77f8dde24b44",
       "version_major": 2,
       "version_minor": 0
      },
      "text/plain": [
       "MapView(layout=Layout(height='400px', width='100%'))"
      ]
     },
     "metadata": {},
     "output_type": "display_data"
    },
    {
     "data": {
      "text/html": [
       "<div class=\"map-static-img-preview-d415ff7d-13b7-4401-a5ad-ee61a57e1b5e\"><img src=\"\"></img></div>"
      ],
      "text/plain": [
       "<IPython.core.display.HTML object>"
      ]
     },
     "metadata": {},
     "output_type": "display_data"
    },
    {
     "data": {
      "text/html": [
       "<div class=\"map-html-embed-preview-d415ff7d-13b7-4401-a5ad-ee61a57e1b5e\"></div>"
      ],
      "text/plain": [
       "<IPython.core.display.HTML object>"
      ]
     },
     "metadata": {},
     "output_type": "display_data"
    }
   ],
   "source": [
    "world_map = gis.map()\n",
    "world_map.basemap = 'dark-gray-vector'\n",
    "\n",
    "protests_featureset = protests_hotspots_as_featureset(yesterday)\n",
    "protests_featureset.sdf.spatial.plot(world_map,\n",
    "                                     renderer_type='c', # for class breaks renderer\n",
    "                                     method='esriClassifyNaturalBreaks', # classification algorithm\n",
    "                                     class_count=5, # choose the number of classes\n",
    "                                     col='count', # numeric column to classify\n",
    "                                     cmap='coolwarm', # color map to pick colors from for each class\n",
    "                                     alpha=0.35 # specify opacity\n",
    ")\n",
    "world_map"
   ]
  },
  {
   "cell_type": "code",
   "execution_count": 6,
   "metadata": {},
   "outputs": [
    {
     "data": {
      "text/html": [
       "<div>\n",
       "<style scoped>\n",
       "    .dataframe tbody tr th:only-of-type {\n",
       "        vertical-align: middle;\n",
       "    }\n",
       "\n",
       "    .dataframe tbody tr th {\n",
       "        vertical-align: top;\n",
       "    }\n",
       "\n",
       "    .dataframe thead th {\n",
       "        text-align: right;\n",
       "    }\n",
       "</style>\n",
       "<table border=\"1\" class=\"dataframe\">\n",
       "  <thead>\n",
       "    <tr style=\"text-align: right;\">\n",
       "      <th></th>\n",
       "      <th>OBJECTID</th>\n",
       "      <th>name</th>\n",
       "      <th>timestamp</th>\n",
       "      <th>count</th>\n",
       "      <th>SHAPE</th>\n",
       "    </tr>\n",
       "  </thead>\n",
       "  <tbody>\n",
       "    <tr>\n",
       "      <th>0</th>\n",
       "      <td>5507</td>\n",
       "      <td>Khartoum, Al Khartum, Sudan</td>\n",
       "      <td>2022-01-04</td>\n",
       "      <td>208</td>\n",
       "      <td>{\"x\": 32.5342, \"y\": 15.5881, \"spatialReference...</td>\n",
       "    </tr>\n",
       "    <tr>\n",
       "      <th>1</th>\n",
       "      <td>5508</td>\n",
       "      <td>Almaty, Almaty Qalasy, Kazakhstan</td>\n",
       "      <td>2022-01-04</td>\n",
       "      <td>199</td>\n",
       "      <td>{\"x\": 76.95, \"y\": 43.25, \"spatialReference\": {...</td>\n",
       "    </tr>\n",
       "    <tr>\n",
       "      <th>2</th>\n",
       "      <td>5509</td>\n",
       "      <td>Saxony, Sachsen, Germany</td>\n",
       "      <td>2022-01-04</td>\n",
       "      <td>154</td>\n",
       "      <td>{\"x\": 13, \"y\": 51, \"spatialReference\": {\"wkid\"...</td>\n",
       "    </tr>\n",
       "    <tr>\n",
       "      <th>3</th>\n",
       "      <td>5510</td>\n",
       "      <td>Omdurman, Al Khartum, Sudan</td>\n",
       "      <td>2022-01-04</td>\n",
       "      <td>100</td>\n",
       "      <td>{\"x\": 32.4372, \"y\": 15.6361, \"spatialReference...</td>\n",
       "    </tr>\n",
       "    <tr>\n",
       "      <th>4</th>\n",
       "      <td>5511</td>\n",
       "      <td>Ravensburg, Baden-WüBerg, Germany</td>\n",
       "      <td>2022-01-04</td>\n",
       "      <td>52</td>\n",
       "      <td>{\"x\": 9.6167, \"y\": 47.7833, \"spatialReference\"...</td>\n",
       "    </tr>\n",
       "  </tbody>\n",
       "</table>\n",
       "</div>"
      ],
      "text/plain": [
       "   OBJECTID                               name  timestamp  count  \\\n",
       "0      5507        Khartoum, Al Khartum, Sudan 2022-01-04    208   \n",
       "1      5508  Almaty, Almaty Qalasy, Kazakhstan 2022-01-04    199   \n",
       "2      5509           Saxony, Sachsen, Germany 2022-01-04    154   \n",
       "3      5510        Omdurman, Al Khartum, Sudan 2022-01-04    100   \n",
       "4      5511  Ravensburg, Baden-WüBerg, Germany 2022-01-04     52   \n",
       "\n",
       "                                               SHAPE  \n",
       "0  {\"x\": 32.5342, \"y\": 15.5881, \"spatialReference...  \n",
       "1  {\"x\": 76.95, \"y\": 43.25, \"spatialReference\": {...  \n",
       "2  {\"x\": 13, \"y\": 51, \"spatialReference\": {\"wkid\"...  \n",
       "3  {\"x\": 32.4372, \"y\": 15.6361, \"spatialReference...  \n",
       "4  {\"x\": 9.6167, \"y\": 47.7833, \"spatialReference\"...  "
      ]
     },
     "execution_count": 6,
     "metadata": {},
     "output_type": "execute_result"
    }
   ],
   "source": [
    "protests_featureset.sdf"
   ]
  },
  {
   "cell_type": "code",
   "execution_count": null,
   "metadata": {},
   "outputs": [],
   "source": []
  }
 ],
 "metadata": {
  "kernelspec": {
   "display_name": "Python 3",
   "language": "python",
   "name": "python3"
  },
  "language_info": {
   "codemirror_mode": {
    "name": "ipython",
    "version": 3
   },
   "file_extension": ".py",
   "mimetype": "text/x-python",
   "name": "python",
   "nbconvert_exporter": "python",
   "pygments_lexer": "ipython3",
   "version": "3.8.2"
  }
 },
 "nbformat": 4,
 "nbformat_minor": 4
}
